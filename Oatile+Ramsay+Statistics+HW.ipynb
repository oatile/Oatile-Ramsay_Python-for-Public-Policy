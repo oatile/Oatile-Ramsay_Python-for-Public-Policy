{
 "cells": [
  {
   "cell_type": "markdown",
   "metadata": {},
   "source": [
    "# Oatile Ramsay Final Homework"
   ]
  },
  {
   "cell_type": "markdown",
   "metadata": {},
   "source": [
    "### Importing packages"
   ]
  },
  {
   "cell_type": "code",
   "execution_count": 131,
   "metadata": {},
   "outputs": [],
   "source": [
    "import pandas as pd\n",
    "import matplotlib.pyplot as plt  \n",
    "import numpy as np\n",
    "import matplotlib.pyplot as plt\n",
    "import statsmodels.api as sm\n",
    "%matplotlib inline \n",
    "from scipy.stats import linregress"
   ]
  },
  {
   "cell_type": "markdown",
   "metadata": {},
   "source": [
    "# Statistics I & II"
   ]
  },
  {
   "cell_type": "markdown",
   "metadata": {},
   "source": [
    "### Part 1. _Analyzing Stop and Frisk Data_\n",
    "\n",
    "An analysis by the NYCLU revealed that innocent New Yorkers have been subjected to police stops and street interrogations more than 5 million times since 2002, and that black and Latino communities continue to be the overwhelming target of these tactics. Nearly nine out of 10 stopped-and-frisked New Yorkers have been completely innocent. <br>\n",
    "\n",
    "The defenders of Stop & Frisk have said that the stops have been random and as such they've been able to reduce the crime rates in the city. However, you feel that you the arrests have been leveled in an unfair manner and more so against black people in the city. <br>\n",
    "\n",
    "As such you set out to investigate this and look at the stop and frisk data from 2003 - 2017. The data is provided as excel files in the NYPD website below:\n",
    "\n",
    "<img src = 'stop_frisk.png'>\n",
    "\n",
    "You realize that some of the files are not like the others but you have enough information from the files to make your analysis work. You are certainely interested in establishing whether,  for the arrests that didn't lead to an arrest (where no offense was found), was the choice to stop the subject random or not. In this analysis, you will  have to consider the population of NYC as found in the census website below.\n",
    "\n",
    "<img src = 'population.png'>\n",
    "\n",
    "### Your task\n",
    "\n",
    "Your task is to come up with the statistic and the model needed to find out whether the stop and frisk program could actually be biased in its treatment of NYC's black population. Could it be biased? Or it is as random as the NYPD claims?\n",
    "\n",
    "### Please note\n",
    "\n",
    "Please take the time to study the files. The codebook to the files is provided. \n",
    "<br>\n",
    "Making the time upfront to understand the data and the task you are supposed to do is useful. It iwll make the task of putting together the files to come up with the conviction rates plus coming up with the statistic and the simulations very straightforward. <br>\n",
    "The goal of the question is to get you using all the skills you have learned in class to do the kind of work you'd be doing outside of a class environment."
   ]
  },
  {
   "cell_type": "raw",
   "metadata": {},
   "source": [
    "Some notes:\n",
    "\n",
    "Prior to 2017, the following keys stand for race:\n",
    "\n",
    "A Asian Pacific\n",
    "B Black\n",
    "I American Indian\n",
    "P Black Hispanic\n",
    "Q White Hispanic\n",
    "W White\n",
    "X Unknown\n",
    "Z Other\n",
    "\n",
    "Also note, prior to 2017, there isn't an explicit arrest column. But please observe that anything found on anyone led to arrests.\n",
    "\n",
    "Some useful resources:\n",
    "- Sometime, when you read CSV files, their encoding will be off. In order to mitigate this, please see this posting on how to encode errors in Pandas read_csv: https://stackoverflow.com/questions/30462807/encoding-error-in-panda-read-csv\n",
    "\n",
    "- Similarly, some files will have mixed types wehn you opn them. When opening CSV files that have mixed types, using dtype='unicode' in your read_csv(...) function should kill the errors / warnings"
   ]
  },
  {
   "cell_type": "markdown",
   "metadata": {},
   "source": [
    "### Importing Databases"
   ]
  },
  {
   "cell_type": "code",
   "execution_count": 133,
   "metadata": {},
   "outputs": [
    {
     "name": "stderr",
     "output_type": "stream",
     "text": [
      "/anaconda/lib/python3.6/site-packages/IPython/core/interactiveshell.py:2717: DtypeWarning: Columns (81,82,83,84,85) have mixed types. Specify dtype option on import or set low_memory=False.\n",
      "  interactivity=interactivity, compiler=compiler, result=result)\n"
     ]
    },
    {
     "data": {
      "text/html": [
       "<div>\n",
       "<style>\n",
       "    .dataframe thead tr:only-child th {\n",
       "        text-align: right;\n",
       "    }\n",
       "\n",
       "    .dataframe thead th {\n",
       "        text-align: left;\n",
       "    }\n",
       "\n",
       "    .dataframe tbody tr th {\n",
       "        vertical-align: top;\n",
       "    }\n",
       "</style>\n",
       "<table border=\"1\" class=\"dataframe\">\n",
       "  <thead>\n",
       "    <tr style=\"text-align: right;\">\n",
       "      <th></th>\n",
       "      <th>year</th>\n",
       "      <th>pct</th>\n",
       "      <th>ser_num</th>\n",
       "      <th>datestop</th>\n",
       "      <th>timestop</th>\n",
       "      <th>recstat</th>\n",
       "      <th>inout</th>\n",
       "      <th>trhsloc</th>\n",
       "      <th>perobs</th>\n",
       "      <th>crimsusp</th>\n",
       "      <th>...</th>\n",
       "      <th>zip</th>\n",
       "      <th>addrpct</th>\n",
       "      <th>sector</th>\n",
       "      <th>beat</th>\n",
       "      <th>post</th>\n",
       "      <th>xcoord</th>\n",
       "      <th>ycoord</th>\n",
       "      <th>dettypcm</th>\n",
       "      <th>linecm</th>\n",
       "      <th>detailcm</th>\n",
       "    </tr>\n",
       "  </thead>\n",
       "  <tbody>\n",
       "    <tr>\n",
       "      <th>0</th>\n",
       "      <td>2003</td>\n",
       "      <td>70</td>\n",
       "      <td>5</td>\n",
       "      <td>1012003</td>\n",
       "      <td>03:00</td>\n",
       "      <td></td>\n",
       "      <td>O</td>\n",
       "      <td></td>\n",
       "      <td>1</td>\n",
       "      <td>ROBBERY</td>\n",
       "      <td>...</td>\n",
       "      <td></td>\n",
       "      <td></td>\n",
       "      <td></td>\n",
       "      <td></td>\n",
       "      <td></td>\n",
       "      <td></td>\n",
       "      <td></td>\n",
       "      <td></td>\n",
       "      <td></td>\n",
       "      <td></td>\n",
       "    </tr>\n",
       "    <tr>\n",
       "      <th>1</th>\n",
       "      <td>2003</td>\n",
       "      <td>70</td>\n",
       "      <td>3</td>\n",
       "      <td>1012003</td>\n",
       "      <td>03:00</td>\n",
       "      <td></td>\n",
       "      <td>O</td>\n",
       "      <td></td>\n",
       "      <td>1</td>\n",
       "      <td>ROBBERY</td>\n",
       "      <td>...</td>\n",
       "      <td></td>\n",
       "      <td></td>\n",
       "      <td></td>\n",
       "      <td></td>\n",
       "      <td></td>\n",
       "      <td></td>\n",
       "      <td></td>\n",
       "      <td></td>\n",
       "      <td></td>\n",
       "      <td></td>\n",
       "    </tr>\n",
       "  </tbody>\n",
       "</table>\n",
       "<p>2 rows × 111 columns</p>\n",
       "</div>"
      ],
      "text/plain": [
       "   year  pct  ser_num  datestop timestop recstat inout trhsloc  perobs  \\\n",
       "0  2003   70        5   1012003    03:00             O               1   \n",
       "1  2003   70        3   1012003    03:00             O               1   \n",
       "\n",
       "  crimsusp    ...     zip addrpct sector beat post xcoord ycoord dettypcm  \\\n",
       "0  ROBBERY    ...                                                           \n",
       "1  ROBBERY    ...                                                           \n",
       "\n",
       "   linecm  detailcm  \n",
       "0                    \n",
       "1                    \n",
       "\n",
       "[2 rows x 111 columns]"
      ]
     },
     "execution_count": 133,
     "metadata": {},
     "output_type": "execute_result"
    }
   ],
   "source": [
    "df_03= pd.read_csv('/Users/oatileramsay/Downloads/2003.csv',encoding ='latin1')\n",
    "df_03.head(2)"
   ]
  },
  {
   "cell_type": "code",
   "execution_count": 134,
   "metadata": {},
   "outputs": [
    {
     "name": "stderr",
     "output_type": "stream",
     "text": [
      "/anaconda/lib/python3.6/site-packages/IPython/core/interactiveshell.py:2717: DtypeWarning: Columns (4,102,109,110) have mixed types. Specify dtype option on import or set low_memory=False.\n",
      "  interactivity=interactivity, compiler=compiler, result=result)\n",
      "/anaconda/lib/python3.6/site-packages/IPython/core/interactiveshell.py:2717: DtypeWarning: Columns (73,74,81,82,83,84,85,107,109,110) have mixed types. Specify dtype option on import or set low_memory=False.\n",
      "  interactivity=interactivity, compiler=compiler, result=result)\n",
      "/anaconda/lib/python3.6/site-packages/IPython/core/interactiveshell.py:2717: DtypeWarning: Columns (1,2,10,18,19,73,74,105,107) have mixed types. Specify dtype option on import or set low_memory=False.\n",
      "  interactivity=interactivity, compiler=compiler, result=result)\n",
      "/anaconda/lib/python3.6/site-packages/IPython/core/interactiveshell.py:2717: DtypeWarning: Columns (4,73,74,81,82,83,84,85,102,109,110) have mixed types. Specify dtype option on import or set low_memory=False.\n",
      "  interactivity=interactivity, compiler=compiler, result=result)\n",
      "/anaconda/lib/python3.6/site-packages/IPython/core/interactiveshell.py:2717: DtypeWarning: Columns (4,73,74) have mixed types. Specify dtype option on import or set low_memory=False.\n",
      "  interactivity=interactivity, compiler=compiler, result=result)\n",
      "/anaconda/lib/python3.6/site-packages/IPython/core/interactiveshell.py:2717: DtypeWarning: Columns (73) have mixed types. Specify dtype option on import or set low_memory=False.\n",
      "  interactivity=interactivity, compiler=compiler, result=result)\n",
      "/anaconda/lib/python3.6/site-packages/IPython/core/interactiveshell.py:2717: DtypeWarning: Columns (73,74,102,109,110) have mixed types. Specify dtype option on import or set low_memory=False.\n",
      "  interactivity=interactivity, compiler=compiler, result=result)\n",
      "/anaconda/lib/python3.6/site-packages/IPython/core/interactiveshell.py:2717: DtypeWarning: Columns (73,103) have mixed types. Specify dtype option on import or set low_memory=False.\n",
      "  interactivity=interactivity, compiler=compiler, result=result)\n",
      "/anaconda/lib/python3.6/site-packages/IPython/core/interactiveshell.py:2717: DtypeWarning: Columns (10,73,103,110,111) have mixed types. Specify dtype option on import or set low_memory=False.\n",
      "  interactivity=interactivity, compiler=compiler, result=result)\n",
      "/anaconda/lib/python3.6/site-packages/IPython/core/interactiveshell.py:2717: DtypeWarning: Columns (10,73,83) have mixed types. Specify dtype option on import or set low_memory=False.\n",
      "  interactivity=interactivity, compiler=compiler, result=result)\n",
      "/anaconda/lib/python3.6/site-packages/IPython/core/interactiveshell.py:2717: DtypeWarning: Columns (10,83) have mixed types. Specify dtype option on import or set low_memory=False.\n",
      "  interactivity=interactivity, compiler=compiler, result=result)\n",
      "/anaconda/lib/python3.6/site-packages/IPython/core/interactiveshell.py:2717: DtypeWarning: Columns (0,1,2,3,4,8,18,19,73,74,84,85,86,103,110,111) have mixed types. Specify dtype option on import or set low_memory=False.\n",
      "  interactivity=interactivity, compiler=compiler, result=result)\n"
     ]
    }
   ],
   "source": [
    "df_04=pd.read_csv('/Users/oatileramsay/Downloads/2004.csv',encoding ='latin1')\n",
    "df_05=pd.read_csv('/Users/oatileramsay/Downloads/2005.csv',encoding ='latin1')\n",
    "df_06=pd.read_csv('/Users/oatileramsay/Downloads/2006.csv',encoding ='latin1')\n",
    "df_07=pd.read_csv('/Users/oatileramsay/Downloads/2007.csv',encoding ='latin1')\n",
    "df_08=pd.read_csv('/Users/oatileramsay/Downloads/2008.csv',encoding ='latin1')\n",
    "df_09=pd.read_csv('/Users/oatileramsay/Downloads/2009.csv',encoding ='latin1')\n",
    "df_10=pd.read_csv('/Users/oatileramsay/Downloads/2010.csv',encoding ='latin1')\n",
    "df_11=pd.read_csv('/Users/oatileramsay/Downloads/2011.csv',encoding ='latin1')\n",
    "df_12=pd.read_csv('/Users/oatileramsay/Downloads/2012.csv',encoding ='latin1')\n",
    "df_13=pd.read_csv('/Users/oatileramsay/Downloads/2013.csv',encoding ='latin1')\n",
    "df_14=pd.read_csv('/Users/oatileramsay/Downloads/2014.csv',encoding ='latin1')\n",
    "df_15=pd.read_csv('/Users/oatileramsay/Downloads/sqf-2015.csv')\n",
    "df_16=pd.read_csv('/Users/oatileramsay/Downloads/sqf-2016.csv')\n",
    "df_17= pd.read_excel('/Users/oatileramsay/Downloads/sqf-2017.xlsx')"
   ]
  },
  {
   "cell_type": "markdown",
   "metadata": {},
   "source": [
    "### Data Cleaning\n",
    "\n",
    "Because we are specifically looking at the impact of race as a major contributor to the likely hood of being stopped, I will proceed by eliminating all columns other than race. From there I will be looking at quantitative data based on race. "
   ]
  },
  {
   "cell_type": "code",
   "execution_count": 135,
   "metadata": {},
   "outputs": [
    {
     "data": {
      "text/plain": [
       "0    B\n",
       "1    B\n",
       "Name: race, dtype: object"
      ]
     },
     "execution_count": 135,
     "metadata": {},
     "output_type": "execute_result"
    }
   ],
   "source": [
    "df_03['race'].head(2)"
   ]
  },
  {
   "cell_type": "code",
   "execution_count": 136,
   "metadata": {},
   "outputs": [
    {
     "data": {
      "text/plain": [
       "0    B\n",
       "1    W\n",
       "Name: race, dtype: object"
      ]
     },
     "execution_count": 136,
     "metadata": {},
     "output_type": "execute_result"
    }
   ],
   "source": [
    "df_16['race'].head(2)"
   ]
  },
  {
   "cell_type": "code",
   "execution_count": 141,
   "metadata": {},
   "outputs": [
    {
     "data": {
      "text/plain": [
       "0            (null)\n",
       "1            (null)\n",
       "2             WHITE\n",
       "3    BLACK HISPANIC\n",
       "4             BLACK\n",
       "Name: SUSPECT_RACE_DESCRIPTION, dtype: object"
      ]
     },
     "execution_count": 141,
     "metadata": {},
     "output_type": "execute_result"
    }
   ],
   "source": [
    "df_17['SUSPECT_RACE_DESCRIPTION'].head()"
   ]
  },
  {
   "cell_type": "markdown",
   "metadata": {},
   "source": [
    "Upon inspection, I realized that the year 2017 was not coded like the other databases. Before I combine them, I would like to have the value labels match."
   ]
  },
  {
   "cell_type": "code",
   "execution_count": 142,
   "metadata": {
    "collapsed": true
   },
   "outputs": [],
   "source": [
    "race_17 = df_17['SUSPECT_RACE_DESCRIPTION']"
   ]
  },
  {
   "cell_type": "code",
   "execution_count": 143,
   "metadata": {},
   "outputs": [
    {
     "data": {
      "text/plain": [
       "BLACK             6595\n",
       "WHITE HISPANIC    2570\n",
       "BLACK HISPANIC     997\n",
       "WHITE              977\n",
       "(null)             268\n",
       "ASIAN/PAC.ISL      206\n",
       "AMER IND             9\n",
       "MALE                 7\n",
       "Name: SUSPECT_RACE_DESCRIPTION, dtype: int64"
      ]
     },
     "execution_count": 143,
     "metadata": {},
     "output_type": "execute_result"
    }
   ],
   "source": [
    "race_17.value_counts()"
   ]
  },
  {
   "cell_type": "markdown",
   "metadata": {},
   "source": [
    "A = ASIAN/PACIFIC ISLANDER\n",
    "\n",
    "B = BLACK\n",
    "\n",
    "I =\tAMERICAN INDIAN/ALASKAN NATIVE\n",
    "\n",
    "P =\tBLACK-HISPANIC\n",
    "\n",
    "Q =\tWHITE-HISPANIC\n",
    "\n",
    "W =\tWHITE\n",
    "\n",
    "X =\tUNKNOWN\n",
    "\n",
    "Z =\tOTHER"
   ]
  },
  {
   "cell_type": "code",
   "execution_count": 148,
   "metadata": {},
   "outputs": [
    {
     "data": {
      "text/plain": [
       "0            (null)\n",
       "1            (null)\n",
       "2             WHITE\n",
       "3    BLACK HISPANIC\n",
       "4                 B\n",
       "Name: SUSPECT_RACE_DESCRIPTION, dtype: object"
      ]
     },
     "execution_count": 148,
     "metadata": {},
     "output_type": "execute_result"
    }
   ],
   "source": [
    "race_17 = race_17.replace('BLACK','B')\n",
    "race_17.head()"
   ]
  },
  {
   "cell_type": "code",
   "execution_count": 149,
   "metadata": {
    "collapsed": true
   },
   "outputs": [],
   "source": [
    "race_17 = race_17.replace('ASIAN/PAC.ISL','A')"
   ]
  },
  {
   "cell_type": "code",
   "execution_count": 150,
   "metadata": {
    "collapsed": true
   },
   "outputs": [],
   "source": [
    "race_17 = race_17.replace('AMERICAN INDIAN/ALASKAN NATIVE','I')"
   ]
  },
  {
   "cell_type": "code",
   "execution_count": 151,
   "metadata": {
    "collapsed": true
   },
   "outputs": [],
   "source": [
    "race_17 = race_17.replace('BLACK HISPANIC','P')"
   ]
  },
  {
   "cell_type": "code",
   "execution_count": 152,
   "metadata": {
    "collapsed": true
   },
   "outputs": [],
   "source": [
    "race_17 = race_17.replace('WHITE HISPANIC','Q')"
   ]
  },
  {
   "cell_type": "code",
   "execution_count": 153,
   "metadata": {
    "collapsed": true
   },
   "outputs": [],
   "source": [
    "race_17 = race_17.replace('WHITE','W')"
   ]
  },
  {
   "cell_type": "code",
   "execution_count": 154,
   "metadata": {
    "collapsed": true
   },
   "outputs": [],
   "source": [
    "race_17 = race_17.replace('UNKNOWN','X')"
   ]
  },
  {
   "cell_type": "code",
   "execution_count": 155,
   "metadata": {
    "collapsed": true
   },
   "outputs": [],
   "source": [
    "race_17 = race_17.replace('OTHER','Z')"
   ]
  },
  {
   "cell_type": "code",
   "execution_count": 167,
   "metadata": {
    "collapsed": true
   },
   "outputs": [],
   "source": [
    "race_17 = race_17.replace('(null)', np.nan)"
   ]
  },
  {
   "cell_type": "code",
   "execution_count": 168,
   "metadata": {},
   "outputs": [
    {
     "data": {
      "text/plain": [
       "0     NaN\n",
       "1     NaN\n",
       "2       W\n",
       "3       P\n",
       "4       B\n",
       "5       Q\n",
       "6       B\n",
       "7       B\n",
       "8       B\n",
       "9       B\n",
       "10      B\n",
       "11      Q\n",
       "12      B\n",
       "13      W\n",
       "14      W\n",
       "15      Q\n",
       "16      W\n",
       "17      W\n",
       "18      B\n",
       "19      P\n",
       "Name: SUSPECT_RACE_DESCRIPTION, dtype: object"
      ]
     },
     "execution_count": 168,
     "metadata": {},
     "output_type": "execute_result"
    }
   ],
   "source": [
    "race_17.head(20)"
   ]
  },
  {
   "cell_type": "markdown",
   "metadata": {},
   "source": [
    "Now I can combine the databases"
   ]
  },
  {
   "cell_type": "code",
   "execution_count": 169,
   "metadata": {
    "collapsed": true
   },
   "outputs": [],
   "source": [
    "race_03 = df_03['race']\n",
    "race_04 = df_04['race']\n",
    "race_05 = df_05['race']\n",
    "race_06 = df_06['race']\n",
    "race_07 = df_07['race']\n",
    "race_08 = df_08['race']\n",
    "race_09 = df_09['race']\n",
    "race_10 = df_10['race']\n",
    "race_11 = df_11['race']\n",
    "race_12 = df_12['race']\n",
    "race_13 = df_13['race']\n",
    "race_14 = df_14['race']\n",
    "race_15 = df_15['race']\n",
    "race_16 = df_16['race']"
   ]
  },
  {
   "cell_type": "code",
   "execution_count": 170,
   "metadata": {
    "collapsed": true
   },
   "outputs": [],
   "source": [
    "frames = [race_03, \n",
    "race_04,\n",
    "race_05,\n",
    "race_06,\n",
    "race_07,\n",
    "race_08,\n",
    "race_09,\n",
    "race_10,\n",
    "race_11,\n",
    "race_12,\n",
    "race_13,\n",
    "race_14,\n",
    "race_15,\n",
    "race_16,\n",
    "race_17]\n",
    "\n",
    "result = pd.concat(frames)"
   ]
  },
  {
   "cell_type": "code",
   "execution_count": 171,
   "metadata": {
    "collapsed": true
   },
   "outputs": [],
   "source": [
    "df = pd.DataFrame(result)"
   ]
  },
  {
   "cell_type": "code",
   "execution_count": 172,
   "metadata": {},
   "outputs": [
    {
     "data": {
      "text/plain": [
       "pandas.core.frame.DataFrame"
      ]
     },
     "execution_count": 172,
     "metadata": {},
     "output_type": "execute_result"
    }
   ],
   "source": [
    "type(df)"
   ]
  },
  {
   "cell_type": "code",
   "execution_count": 173,
   "metadata": {},
   "outputs": [
    {
     "data": {
      "text/html": [
       "<div>\n",
       "<style>\n",
       "    .dataframe thead tr:only-child th {\n",
       "        text-align: right;\n",
       "    }\n",
       "\n",
       "    .dataframe thead th {\n",
       "        text-align: left;\n",
       "    }\n",
       "\n",
       "    .dataframe tbody tr th {\n",
       "        vertical-align: top;\n",
       "    }\n",
       "</style>\n",
       "<table border=\"1\" class=\"dataframe\">\n",
       "  <thead>\n",
       "    <tr style=\"text-align: right;\">\n",
       "      <th></th>\n",
       "      <th>0</th>\n",
       "    </tr>\n",
       "  </thead>\n",
       "  <tbody>\n",
       "    <tr>\n",
       "      <th>0</th>\n",
       "      <td>B</td>\n",
       "    </tr>\n",
       "    <tr>\n",
       "      <th>1</th>\n",
       "      <td>B</td>\n",
       "    </tr>\n",
       "    <tr>\n",
       "      <th>2</th>\n",
       "      <td>Q</td>\n",
       "    </tr>\n",
       "    <tr>\n",
       "      <th>3</th>\n",
       "      <td>Q</td>\n",
       "    </tr>\n",
       "    <tr>\n",
       "      <th>4</th>\n",
       "      <td>B</td>\n",
       "    </tr>\n",
       "  </tbody>\n",
       "</table>\n",
       "</div>"
      ],
      "text/plain": [
       "   0\n",
       "0  B\n",
       "1  B\n",
       "2  Q\n",
       "3  Q\n",
       "4  B"
      ]
     },
     "execution_count": 173,
     "metadata": {},
     "output_type": "execute_result"
    }
   ],
   "source": [
    "df.head()"
   ]
  },
  {
   "cell_type": "code",
   "execution_count": 174,
   "metadata": {
    "collapsed": true
   },
   "outputs": [],
   "source": [
    "df = df.rename(columns={0: 'Race'})"
   ]
  },
  {
   "cell_type": "code",
   "execution_count": 175,
   "metadata": {},
   "outputs": [
    {
     "data": {
      "text/html": [
       "<div>\n",
       "<style>\n",
       "    .dataframe thead tr:only-child th {\n",
       "        text-align: right;\n",
       "    }\n",
       "\n",
       "    .dataframe thead th {\n",
       "        text-align: left;\n",
       "    }\n",
       "\n",
       "    .dataframe tbody tr th {\n",
       "        vertical-align: top;\n",
       "    }\n",
       "</style>\n",
       "<table border=\"1\" class=\"dataframe\">\n",
       "  <thead>\n",
       "    <tr style=\"text-align: right;\">\n",
       "      <th></th>\n",
       "      <th>Race</th>\n",
       "    </tr>\n",
       "  </thead>\n",
       "  <tbody>\n",
       "    <tr>\n",
       "      <th>0</th>\n",
       "      <td>B</td>\n",
       "    </tr>\n",
       "    <tr>\n",
       "      <th>1</th>\n",
       "      <td>B</td>\n",
       "    </tr>\n",
       "  </tbody>\n",
       "</table>\n",
       "</div>"
      ],
      "text/plain": [
       "  Race\n",
       "0    B\n",
       "1    B"
      ]
     },
     "execution_count": 175,
     "metadata": {},
     "output_type": "execute_result"
    }
   ],
   "source": [
    "df.head(2)"
   ]
  },
  {
   "cell_type": "markdown",
   "metadata": {},
   "source": [
    "Removing null values"
   ]
  },
  {
   "cell_type": "code",
   "execution_count": 176,
   "metadata": {},
   "outputs": [
    {
     "data": {
      "text/plain": [
       "Race    268\n",
       "dtype: int64"
      ]
     },
     "execution_count": 176,
     "metadata": {},
     "output_type": "execute_result"
    }
   ],
   "source": [
    "df.isnull().sum(axis = 0)"
   ]
  },
  {
   "cell_type": "code",
   "execution_count": 177,
   "metadata": {
    "collapsed": true
   },
   "outputs": [],
   "source": [
    "df = df.dropna()  "
   ]
  },
  {
   "cell_type": "code",
   "execution_count": 178,
   "metadata": {},
   "outputs": [
    {
     "data": {
      "text/plain": [
       "Race    0\n",
       "dtype: int64"
      ]
     },
     "execution_count": 178,
     "metadata": {},
     "output_type": "execute_result"
    }
   ],
   "source": [
    "df.isnull().sum(axis = 0) #chacking to see if they are still there"
   ]
  },
  {
   "cell_type": "code",
   "execution_count": 179,
   "metadata": {},
   "outputs": [
    {
     "data": {
      "text/plain": [
       "2630606"
      ]
     },
     "execution_count": 179,
     "metadata": {},
     "output_type": "execute_result"
    }
   ],
   "source": [
    "len(df.loc[df['Race'] == 'B'])"
   ]
  },
  {
   "cell_type": "code",
   "execution_count": 180,
   "metadata": {},
   "outputs": [
    {
     "data": {
      "text/plain": [
       "5076509"
      ]
     },
     "execution_count": 180,
     "metadata": {},
     "output_type": "execute_result"
    }
   ],
   "source": [
    "len(df)"
   ]
  },
  {
   "cell_type": "code",
   "execution_count": 181,
   "metadata": {},
   "outputs": [
    {
     "data": {
      "text/plain": [
       "0.5181919307145915"
      ]
     },
     "execution_count": 181,
     "metadata": {},
     "output_type": "execute_result"
    }
   ],
   "source": [
    "2630606/5076509"
   ]
  },
  {
   "cell_type": "code",
   "execution_count": 182,
   "metadata": {},
   "outputs": [
    {
     "data": {
      "text/plain": [
       "0.48180806928540854"
      ]
     },
     "execution_count": 182,
     "metadata": {},
     "output_type": "execute_result"
    }
   ],
   "source": [
    "(5076509 - 2630606)/5076509"
   ]
  },
  {
   "cell_type": "code",
   "execution_count": 183,
   "metadata": {},
   "outputs": [
    {
     "data": {
      "text/plain": [
       "([<matplotlib.patches.Wedge at 0x1ac8a3240>,\n",
       "  <matplotlib.patches.Wedge at 0x1a687d6d8>],\n",
       " [<matplotlib.text.Text at 0x11bc93be0>,\n",
       "  <matplotlib.text.Text at 0x1a68734e0>],\n",
       " [<matplotlib.text.Text at 0x1a687d198>,\n",
       "  <matplotlib.text.Text at 0x1a6873a58>])"
      ]
     },
     "execution_count": 183,
     "metadata": {},
     "output_type": "execute_result"
    },
    {
     "data": {
      "image/png": "[encoded data removed]",
      "text/plain": [
       "<matplotlib.figure.Figure at 0x1ae5a8f98>"
      ]
     },
     "metadata": {},
     "output_type": "display_data"
    }
   ],
   "source": [
    "data_0 = len(df.loc[df['Race'] == 'B'])\n",
    "data_1 = df\n",
    "\n",
    "sizes = [51.8,48.1]\n",
    "\n",
    "labels = 'Black', 'Non-Black'\n",
    "colors = ['gold','lightskyblue']\n",
    "explode = (0.1, 0)  # explode 1st slice\n",
    "plt.style.use('seaborn-white');\n",
    "\n",
    "\n",
    "plt.figure(figsize=(12, 9));\n",
    "\n",
    "plt.pie(sizes, labels=labels, explode=explode,colors=colors,wedgeprops = {'linewidth': 3},\n",
    "autopct='%1.1f%%', shadow=True, startangle=120)"
   ]
  },
  {
   "cell_type": "markdown",
   "metadata": {},
   "source": [
    "By looking at the pure proportions we can see that Blacks account for over half the stop and frisk cases. For the next part of the question,we will have to look at what the likelyhood/probabilty of these results were."
   ]
  },
  {
   "cell_type": "markdown",
   "metadata": {},
   "source": [
    "### Method"
   ]
  },
  {
   "cell_type": "markdown",
   "metadata": {},
   "source": [
    "I will first gather data from the NYC Departmet of City Planning on the population of nyc and the total distribution by race. From there I will write a code that can predict the probability of selecting a Black person at random. I will set the code so that the excercise is carried out a statistically relvant number of times. From there we will be able to determine the likelyhood that Black people would be stopped this frequesntly only by random chance.\n",
    "\n",
    "NB: Because the NYCDUP had not created a division between white hispanic and black hispanics, I will solely focus my work on Black/Afican Americans."
   ]
  },
  {
   "cell_type": "code",
   "execution_count": 184,
   "metadata": {},
   "outputs": [],
   "source": [
    "# From the NYC Department of city Planning\n",
    "Population_of_NYC = 8175133\n",
    "Population_of_Blacks = 1861295"
   ]
  },
  {
   "cell_type": "code",
   "execution_count": 185,
   "metadata": {},
   "outputs": [
    {
     "data": {
      "text/plain": [
       "0.22767764145243877"
      ]
     },
     "execution_count": 185,
     "metadata": {},
     "output_type": "execute_result"
    }
   ],
   "source": [
    "Population_of_Blacks/Population_of_NYC"
   ]
  },
  {
   "cell_type": "markdown",
   "metadata": {
    "collapsed": true
   },
   "source": [
    "NB: The percentage distribution of black vs non black populations under the age of 18 and 18+ is a difference between 25% and 22.2%. Given how similar they are, I do not believe it will alter the results in any major way. Additionally, while one might assume that the largest populations to be affects would be those over the age of 18, however I am working with the assumption that police officers will engage with younger civillians, either at the juvenile level or without realizing that they are younger than tehy actually are."
   ]
  },
  {
   "cell_type": "code",
   "execution_count": 186,
   "metadata": {
    "collapsed": true
   },
   "outputs": [],
   "source": [
    "black_nonblack_ratio = [0.23,0.76]"
   ]
  },
  {
   "cell_type": "code",
   "execution_count": 187,
   "metadata": {},
   "outputs": [],
   "source": [
    "def sample_proportions(sample_size, probabilities):\n",
    "    return np.random.multinomial(sample_size, probabilities) / sample_size"
   ]
  },
  {
   "cell_type": "code",
   "execution_count": 188,
   "metadata": {},
   "outputs": [
    {
     "data": {
      "text/plain": [
       "array([ 0.32,  0.68])"
      ]
     },
     "execution_count": 188,
     "metadata": {},
     "output_type": "execute_result"
    }
   ],
   "source": [
    "sample_proportions(100, black_nonblack_ratio) #test"
   ]
  },
  {
   "cell_type": "code",
   "execution_count": 189,
   "metadata": {},
   "outputs": [
    {
     "data": {
      "text/plain": [
       "array([ 0.23000649,  0.76999351])"
      ]
     },
     "execution_count": 189,
     "metadata": {},
     "output_type": "execute_result"
    }
   ],
   "source": [
    "sample_proportions(5076509, black_nonblack_ratio) #given the entire population we have recordings of"
   ]
  },
  {
   "cell_type": "code",
   "execution_count": 190,
   "metadata": {},
   "outputs": [
    {
     "data": {
      "text/plain": [
       "23.000156209710259"
      ]
     },
     "execution_count": 190,
     "metadata": {},
     "output_type": "execute_result"
    }
   ],
   "source": [
    "100*sample_proportions(5076509, black_nonblack_ratio)[0]"
   ]
  },
  {
   "cell_type": "code",
   "execution_count": 191,
   "metadata": {
    "collapsed": true
   },
   "outputs": [],
   "source": [
    "counts = []\n",
    "\n",
    "for i in range(1000):\n",
    "    counts.append(100*sample_proportions(100,black_nonblack_ratio)[0])"
   ]
  },
  {
   "cell_type": "code",
   "execution_count": 330,
   "metadata": {},
   "outputs": [
    {
     "data": {
      "text/plain": [
       "<matplotlib.collections.PathCollection at 0x1ac8450f0>"
      ]
     },
     "execution_count": 330,
     "metadata": {},
     "output_type": "execute_result"
    },
    {
     "data": {
      "image/png": "[encoded data removed]",
      "text/plain": [
       "<matplotlib.figure.Figure at 0x16e879588>"
      ]
     },
     "metadata": {},
     "output_type": "display_data"
    }
   ],
   "source": [
    "### plt.style.use('seaborn-white')\n",
    "plt.figure(figsize=(12,9))\n",
    "ax = plt.subplot()\n",
    "ax.spines['top'].set_visible(False)\n",
    "ax.spines['right'].set_visible(False)\n",
    "ax.set_title(\"Stop & Frisk\",fontweight=\"bold\", fontsize = 16)\n",
    "plt.xlabel('Percentage')\n",
    "plt.hist(counts, bins = 10,alpha = 0.25,\n",
    "         histtype='stepfilled', color = 'blue', edgecolor='black');\n",
    "plt.scatter(52, 0, color='red', s=30)"
   ]
  },
  {
   "cell_type": "markdown",
   "metadata": {},
   "source": [
    "From the graph above we can conclude that it would be highly unlikely that we would get such large popolations of blakc people beign stopped if the searches were conducted at random. Therefore, the results lead me to believe that the stop and frisk program is biased in its treatment of NYC's black population."
   ]
  },
  {
   "cell_type": "markdown",
   "metadata": {},
   "source": [
    "### Part 2: *Earnings, gender & height*"
   ]
  },
  {
   "cell_type": "markdown",
   "metadata": {},
   "source": [
    "### Background on the data\n",
    "The National Longitudinal Surveys (NLS) are a set of surveys designed to gather information at multiple points in time on the labor market activities and other significant life events of several groups of men and women. For more than 4 decades, NLS data have served as an important tool for economists, sociologists, and other researchers. <br>\n",
    "\n",
    "The NLS has 7 major cohorts that it has studied ( we are interested in the ones highlighted ): \n",
    "- **National Longitudinal Survey of Youth 1997 (NLSY97)**\n",
    "- **National Longitudinal Survey of Youth 1979 (NLSY79)**\n",
    "- NLSY79 Child and Young Adult\n",
    "- Older Men\n",
    "- Mature Women\n",
    "- Young Men\n",
    "- Young Women\n",
    "\n",
    "The NLS has two major National Longitudinal Surveys of Youth (NLSY). One is from 1979 and the other is from 1997. Both collect data on employment, income, and personal characteristics from cohorts of people who were young at the time the surveys started. More specifically, 14 to 22 years old for NLSY79 and 12 to 17 years old for NLSY97. <br>\n",
    "\n",
    "The latest datasets are from 2014 for NLSY79 and 2015 for NLSY97. Meaning that respondents would be in the 50s and their 30s, respectively.<br>\n",
    "\n",
    "### Your task\n",
    "\n",
    "The current task at hand is to look at the distribution of height and decide on who is tall / short. <br><br>\n",
    "\n",
    "Then based on this, you want to see how the income distribution is according to a person being tall / short. With the pattern that you find, and that which points to a difference, you would like to test a set of hypotheses. <br><br>\n",
    "\n",
    "One ( the null) is that the income distribution is random while the alternative is that indeed, heights and income have a relationship.<br><br>\n",
    "\n",
    "Because both datasets are at their peak earning, please use both data sets (NLSY97 and NLSY79). Your analyses should be separate. Not all the data will be complete, so please clean your data accordingly and also make conclusions based on what you see.\n",
    "\n",
    "\n",
    "### Where to get the gender, height, and earnings data\n",
    "\n",
    "You can get the sex, height and earnings data from the NLS website. \n",
    "\n",
    "https://www.nlsinfo.org/investigator/pages/login.jsp\n",
    "\n",
    "Use the search method to get you the right data that you want. Do this seprately for both the NYLS79 and NYLS97 data.\n",
    "\n",
    "\n",
    "**As an example, to get the gender of NLSY97 from the site you would go to variable search and look for gender in Variable Search under the search tab. You would then click on add to add the data. In addition, you would then look for height (both feet and inches) in 2015 and earnings in 2014 or 2015 (or whichever you find as the latest).**\n",
    "\n",
    "<img src = './earnings/gender.png'>\n",
    "\n",
    "After that you can review the variables that you have chosen under the review tab\n",
    "\n",
    "<img src = './earnings/review.png' width=\"75%\" height=\"75%\">\n",
    "\n",
    "And then make sure to save your work as a CSV.\n",
    "<img src = './earnings/download.png' width=\"75%\" height=\"75%\">\n",
    "\n",
    "### Imortant Notice: Existence of similar work\n",
    "\n",
    "There exists similar work on this studies on the internet. Please, if you need to, use that work more as a guide but not as the answer, as the computation and expected product from this is different from what you will see out there. Pay attention to the nuances to not be penalized for plagiarism."
   ]
  },
  {
   "cell_type": "markdown",
   "metadata": {},
   "source": [
    "# Part 3: The Math of Gender, Sex & Earnings\n",
    "\n",
    "You will need the attend the last class to comfortably answer this section of the questions.\n",
    "\n",
    "Please use the data you have in Part 2 to answer the following questions:\n",
    "1. Please list the quartiles of the earnings for both NLYS79 and NLYS97 data sets\n",
    "2. What is the correlation between height and earnings for each of the data sets? What is it when adjusted for gender\n",
    "- what is the r value?\n",
    "3. Please run a regression analysis on the data sets and comment on the effects of height and earnings."
   ]
  },
  {
   "cell_type": "markdown",
   "metadata": {},
   "source": [
    "### Importing csv databases"
   ]
  },
  {
   "cell_type": "code",
   "execution_count": 704,
   "metadata": {},
   "outputs": [
    {
     "data": {
      "text/html": [
       "<div>\n",
       "<style>\n",
       "    .dataframe thead tr:only-child th {\n",
       "        text-align: right;\n",
       "    }\n",
       "\n",
       "    .dataframe thead th {\n",
       "        text-align: left;\n",
       "    }\n",
       "\n",
       "    .dataframe tbody tr th {\n",
       "        vertical-align: top;\n",
       "    }\n",
       "</style>\n",
       "<table border=\"1\" class=\"dataframe\">\n",
       "  <thead>\n",
       "    <tr style=\"text-align: right;\">\n",
       "      <th></th>\n",
       "      <th>R0000100</th>\n",
       "      <th>T3955100</th>\n",
       "      <th>T3955200</th>\n",
       "      <th>T5259900</th>\n",
       "      <th>T5597600</th>\n",
       "    </tr>\n",
       "  </thead>\n",
       "  <tbody>\n",
       "    <tr>\n",
       "      <th>0</th>\n",
       "      <td>1</td>\n",
       "      <td>-5</td>\n",
       "      <td>-5</td>\n",
       "      <td>-5</td>\n",
       "      <td>-5</td>\n",
       "    </tr>\n",
       "    <tr>\n",
       "      <th>1</th>\n",
       "      <td>2</td>\n",
       "      <td>5</td>\n",
       "      <td>0</td>\n",
       "      <td>-4</td>\n",
       "      <td>2</td>\n",
       "    </tr>\n",
       "  </tbody>\n",
       "</table>\n",
       "</div>"
      ],
      "text/plain": [
       "   R0000100  T3955100  T3955200  T5259900  T5597600\n",
       "0         1        -5        -5        -5        -5\n",
       "1         2         5         0        -4         2"
      ]
     },
     "execution_count": 704,
     "metadata": {},
     "output_type": "execute_result"
    }
   ],
   "source": [
    "NLSY_1979 = pd.read_csv(\"/Users/oatileramsay/Downloads/NLSY79/NLSY79.csv\")\n",
    "NLSY_1979.head(2) #check"
   ]
  },
  {
   "cell_type": "code",
   "execution_count": 767,
   "metadata": {},
   "outputs": [
    {
     "data": {
      "text/html": [
       "<div>\n",
       "<style>\n",
       "    .dataframe thead tr:only-child th {\n",
       "        text-align: right;\n",
       "    }\n",
       "\n",
       "    .dataframe thead th {\n",
       "        text-align: left;\n",
       "    }\n",
       "\n",
       "    .dataframe tbody tr th {\n",
       "        vertical-align: top;\n",
       "    }\n",
       "</style>\n",
       "<table border=\"1\" class=\"dataframe\">\n",
       "  <thead>\n",
       "    <tr style=\"text-align: right;\">\n",
       "      <th></th>\n",
       "      <th>R0000100</th>\n",
       "      <th>R0536300</th>\n",
       "      <th>R0536401</th>\n",
       "      <th>R0536402</th>\n",
       "      <th>R1235800</th>\n",
       "      <th>R1482600</th>\n",
       "      <th>T7635600</th>\n",
       "      <th>T7635700</th>\n",
       "      <th>U0389900</th>\n",
       "      <th>U0390900</th>\n",
       "    </tr>\n",
       "  </thead>\n",
       "  <tbody>\n",
       "    <tr>\n",
       "      <th>0</th>\n",
       "      <td>1</td>\n",
       "      <td>2</td>\n",
       "      <td>9</td>\n",
       "      <td>1981</td>\n",
       "      <td>1</td>\n",
       "      <td>4</td>\n",
       "      <td>5</td>\n",
       "      <td>7</td>\n",
       "      <td>-4</td>\n",
       "      <td>-4</td>\n",
       "    </tr>\n",
       "    <tr>\n",
       "      <th>1</th>\n",
       "      <td>2</td>\n",
       "      <td>1</td>\n",
       "      <td>7</td>\n",
       "      <td>1982</td>\n",
       "      <td>1</td>\n",
       "      <td>2</td>\n",
       "      <td>5</td>\n",
       "      <td>7</td>\n",
       "      <td>-4</td>\n",
       "      <td>-4</td>\n",
       "    </tr>\n",
       "  </tbody>\n",
       "</table>\n",
       "</div>"
      ],
      "text/plain": [
       "   R0000100  R0536300  R0536401  R0536402  R1235800  R1482600  T7635600  \\\n",
       "0         1         2         9      1981         1         4         5   \n",
       "1         2         1         7      1982         1         2         5   \n",
       "\n",
       "   T7635700  U0389900  U0390900  \n",
       "0         7        -4        -4  \n",
       "1         7        -4        -4  "
      ]
     },
     "execution_count": 767,
     "metadata": {},
     "output_type": "execute_result"
    }
   ],
   "source": [
    "NLSY_1997 = pd.read_csv(\"/Users/oatileramsay/Downloads/NLSY97/NLSY97.csv\")\n",
    "NLSY_1997.head(2) #check"
   ]
  },
  {
   "cell_type": "markdown",
   "metadata": {},
   "source": [
    "### Standardizing and cleaning the data"
   ]
  },
  {
   "cell_type": "markdown",
   "metadata": {},
   "source": [
    "I will proceed by working on NLSY79 first, then NLSY97 last."
   ]
  },
  {
   "cell_type": "markdown",
   "metadata": {},
   "source": [
    "# NLSY79"
   ]
  },
  {
   "cell_type": "markdown",
   "metadata": {},
   "source": [
    "#### Key:\n",
    "\n",
    "R00001.00 = IDENTIFICATION CODE\n",
    "                \n",
    "T39551.00 = R HEIGHT IN FEET\n",
    "                \n",
    "T39552.00 = R HEIGHT IN INCHES\n",
    "                \n",
    "T52599.00 = AVERAGE MONTHLY EARNINGS BEFORE TAXES AND DEDUCTIONS\n",
    " \n",
    "T55976.00 = R GENDER\n",
    "            (1: MALE , 2: FEMALE)\n",
    "\n",
    "#### Value Key:\n",
    "\n",
    "VALID SKIP(-4) \n",
    "\n",
    "NON-INTERVIEW(-5)\n",
    "\n",
    "Refusal(-1)  \n",
    "\n",
    "Don't Know(-2)\n",
    "\n"
   ]
  },
  {
   "cell_type": "code",
   "execution_count": 706,
   "metadata": {},
   "outputs": [
    {
     "data": {
      "text/html": [
       "<div>\n",
       "<style>\n",
       "    .dataframe thead tr:only-child th {\n",
       "        text-align: right;\n",
       "    }\n",
       "\n",
       "    .dataframe thead th {\n",
       "        text-align: left;\n",
       "    }\n",
       "\n",
       "    .dataframe tbody tr th {\n",
       "        vertical-align: top;\n",
       "    }\n",
       "</style>\n",
       "<table border=\"1\" class=\"dataframe\">\n",
       "  <thead>\n",
       "    <tr style=\"text-align: right;\">\n",
       "      <th></th>\n",
       "      <th>R0000100</th>\n",
       "      <th>T3955100</th>\n",
       "      <th>T3955200</th>\n",
       "      <th>T5259900</th>\n",
       "      <th>T5597600</th>\n",
       "    </tr>\n",
       "  </thead>\n",
       "  <tbody>\n",
       "    <tr>\n",
       "      <th>0</th>\n",
       "      <td>1</td>\n",
       "      <td>-5</td>\n",
       "      <td>-5</td>\n",
       "      <td>-5</td>\n",
       "      <td>-5</td>\n",
       "    </tr>\n",
       "    <tr>\n",
       "      <th>1</th>\n",
       "      <td>2</td>\n",
       "      <td>5</td>\n",
       "      <td>0</td>\n",
       "      <td>-4</td>\n",
       "      <td>2</td>\n",
       "    </tr>\n",
       "  </tbody>\n",
       "</table>\n",
       "</div>"
      ],
      "text/plain": [
       "   R0000100  T3955100  T3955200  T5259900  T5597600\n",
       "0         1        -5        -5        -5        -5\n",
       "1         2         5         0        -4         2"
      ]
     },
     "execution_count": 706,
     "metadata": {},
     "output_type": "execute_result"
    }
   ],
   "source": [
    "NLSY_1979.head(2)"
   ]
  },
  {
   "cell_type": "code",
   "execution_count": 707,
   "metadata": {},
   "outputs": [],
   "source": [
    "df1 = NLSY_1979.rename(columns= {\"R0000100\": 'IDENTIFICATION CODE',\n",
    "                                 \"T3955100\": 'HEIGHT IN FEET',\n",
    "                                 \"T3955200\": 'HEIGHT IN INCHES',\n",
    "                                 \"T5259900\": 'AVERAGE MONTHLY EARNINGS',\n",
    "                                 \"T5597600\": 'GENDER'})\n",
    "#Renaming Columns"
   ]
  },
  {
   "cell_type": "code",
   "execution_count": 708,
   "metadata": {},
   "outputs": [
    {
     "data": {
      "text/html": [
       "<div>\n",
       "<style>\n",
       "    .dataframe thead tr:only-child th {\n",
       "        text-align: right;\n",
       "    }\n",
       "\n",
       "    .dataframe thead th {\n",
       "        text-align: left;\n",
       "    }\n",
       "\n",
       "    .dataframe tbody tr th {\n",
       "        vertical-align: top;\n",
       "    }\n",
       "</style>\n",
       "<table border=\"1\" class=\"dataframe\">\n",
       "  <thead>\n",
       "    <tr style=\"text-align: right;\">\n",
       "      <th></th>\n",
       "      <th>IDENTIFICATION CODE</th>\n",
       "      <th>HEIGHT IN FEET</th>\n",
       "      <th>HEIGHT IN INCHES</th>\n",
       "      <th>AVERAGE MONTHLY EARNINGS</th>\n",
       "      <th>GENDER</th>\n",
       "    </tr>\n",
       "  </thead>\n",
       "  <tbody>\n",
       "    <tr>\n",
       "      <th>0</th>\n",
       "      <td>1</td>\n",
       "      <td>-5</td>\n",
       "      <td>-5</td>\n",
       "      <td>-5</td>\n",
       "      <td>-5</td>\n",
       "    </tr>\n",
       "    <tr>\n",
       "      <th>1</th>\n",
       "      <td>2</td>\n",
       "      <td>5</td>\n",
       "      <td>0</td>\n",
       "      <td>-4</td>\n",
       "      <td>2</td>\n",
       "    </tr>\n",
       "  </tbody>\n",
       "</table>\n",
       "</div>"
      ],
      "text/plain": [
       "   IDENTIFICATION CODE  HEIGHT IN FEET  HEIGHT IN INCHES  \\\n",
       "0                    1              -5                -5   \n",
       "1                    2               5                 0   \n",
       "\n",
       "   AVERAGE MONTHLY EARNINGS  GENDER  \n",
       "0                        -5      -5  \n",
       "1                        -4       2  "
      ]
     },
     "execution_count": 708,
     "metadata": {},
     "output_type": "execute_result"
    }
   ],
   "source": [
    "df1.head(2)"
   ]
  },
  {
   "cell_type": "code",
   "execution_count": 709,
   "metadata": {},
   "outputs": [],
   "source": [
    "df1 = df1.replace(-4, 0)"
   ]
  },
  {
   "cell_type": "code",
   "execution_count": 710,
   "metadata": {},
   "outputs": [],
   "source": [
    "df1 = df1.replace(-5, 0)"
   ]
  },
  {
   "cell_type": "code",
   "execution_count": 711,
   "metadata": {
    "collapsed": true
   },
   "outputs": [],
   "source": [
    "df1 = df1.replace(-1, 0)"
   ]
  },
  {
   "cell_type": "code",
   "execution_count": 712,
   "metadata": {
    "collapsed": true
   },
   "outputs": [],
   "source": [
    "df1 = df1.replace(-2, np.nan)"
   ]
  },
  {
   "cell_type": "code",
   "execution_count": 713,
   "metadata": {},
   "outputs": [
    {
     "data": {
      "text/html": [
       "<div>\n",
       "<style>\n",
       "    .dataframe thead tr:only-child th {\n",
       "        text-align: right;\n",
       "    }\n",
       "\n",
       "    .dataframe thead th {\n",
       "        text-align: left;\n",
       "    }\n",
       "\n",
       "    .dataframe tbody tr th {\n",
       "        vertical-align: top;\n",
       "    }\n",
       "</style>\n",
       "<table border=\"1\" class=\"dataframe\">\n",
       "  <thead>\n",
       "    <tr style=\"text-align: right;\">\n",
       "      <th></th>\n",
       "      <th>IDENTIFICATION CODE</th>\n",
       "      <th>HEIGHT IN FEET</th>\n",
       "      <th>HEIGHT IN INCHES</th>\n",
       "      <th>AVERAGE MONTHLY EARNINGS</th>\n",
       "      <th>GENDER</th>\n",
       "    </tr>\n",
       "  </thead>\n",
       "  <tbody>\n",
       "    <tr>\n",
       "      <th>0</th>\n",
       "      <td>1</td>\n",
       "      <td>NaN</td>\n",
       "      <td>NaN</td>\n",
       "      <td>NaN</td>\n",
       "      <td>NaN</td>\n",
       "    </tr>\n",
       "    <tr>\n",
       "      <th>1</th>\n",
       "      <td>2</td>\n",
       "      <td>5.0</td>\n",
       "      <td>0.0</td>\n",
       "      <td>NaN</td>\n",
       "      <td>2.0</td>\n",
       "    </tr>\n",
       "  </tbody>\n",
       "</table>\n",
       "</div>"
      ],
      "text/plain": [
       "   IDENTIFICATION CODE  HEIGHT IN FEET  HEIGHT IN INCHES  \\\n",
       "0                    1             NaN               NaN   \n",
       "1                    2             5.0               0.0   \n",
       "\n",
       "   AVERAGE MONTHLY EARNINGS  GENDER  \n",
       "0                       NaN     NaN  \n",
       "1                       NaN     2.0  "
      ]
     },
     "execution_count": 713,
     "metadata": {},
     "output_type": "execute_result"
    }
   ],
   "source": [
    "df1.head(2) #Check"
   ]
  },
  {
   "cell_type": "code",
   "execution_count": 714,
   "metadata": {},
   "outputs": [
    {
     "data": {
      "text/html": [
       "<div>\n",
       "<style>\n",
       "    .dataframe thead tr:only-child th {\n",
       "        text-align: right;\n",
       "    }\n",
       "\n",
       "    .dataframe thead th {\n",
       "        text-align: left;\n",
       "    }\n",
       "\n",
       "    .dataframe tbody tr th {\n",
       "        vertical-align: top;\n",
       "    }\n",
       "</style>\n",
       "<table border=\"1\" class=\"dataframe\">\n",
       "  <thead>\n",
       "    <tr style=\"text-align: right;\">\n",
       "      <th></th>\n",
       "      <th>IDENTIFICATION CODE</th>\n",
       "      <th>HEIGHT IN FEET</th>\n",
       "      <th>HEIGHT IN INCHES</th>\n",
       "      <th>AVERAGE MONTHLY EARNINGS</th>\n",
       "      <th>GENDER</th>\n",
       "    </tr>\n",
       "  </thead>\n",
       "  <tbody>\n",
       "    <tr>\n",
       "      <th>0</th>\n",
       "      <td>1</td>\n",
       "      <td>NaN</td>\n",
       "      <td>NaN</td>\n",
       "      <td>NaN</td>\n",
       "      <td>NaN</td>\n",
       "    </tr>\n",
       "    <tr>\n",
       "      <th>1</th>\n",
       "      <td>2</td>\n",
       "      <td>5.0</td>\n",
       "      <td>0.0</td>\n",
       "      <td>NaN</td>\n",
       "      <td>Female</td>\n",
       "    </tr>\n",
       "    <tr>\n",
       "      <th>2</th>\n",
       "      <td>3</td>\n",
       "      <td>5.0</td>\n",
       "      <td>10.0</td>\n",
       "      <td>NaN</td>\n",
       "      <td>Female</td>\n",
       "    </tr>\n",
       "    <tr>\n",
       "      <th>3</th>\n",
       "      <td>4</td>\n",
       "      <td>NaN</td>\n",
       "      <td>NaN</td>\n",
       "      <td>NaN</td>\n",
       "      <td>Female</td>\n",
       "    </tr>\n",
       "    <tr>\n",
       "      <th>4</th>\n",
       "      <td>5</td>\n",
       "      <td>NaN</td>\n",
       "      <td>NaN</td>\n",
       "      <td>NaN</td>\n",
       "      <td>NaN</td>\n",
       "    </tr>\n",
       "  </tbody>\n",
       "</table>\n",
       "</div>"
      ],
      "text/plain": [
       "   IDENTIFICATION CODE  HEIGHT IN FEET  HEIGHT IN INCHES  \\\n",
       "0                    1             NaN               NaN   \n",
       "1                    2             5.0               0.0   \n",
       "2                    3             5.0              10.0   \n",
       "3                    4             NaN               NaN   \n",
       "4                    5             NaN               NaN   \n",
       "\n",
       "   AVERAGE MONTHLY EARNINGS  GENDER  \n",
       "0                       NaN     NaN  \n",
       "1                       NaN  Female  \n",
       "2                       NaN  Female  \n",
       "3                       NaN  Female  \n",
       "4                       NaN     NaN  "
      ]
     },
     "execution_count": 714,
     "metadata": {},
     "output_type": "execute_result"
    }
   ],
   "source": [
    "df1.GENDER.replace([2.0, 1.0], ['Female', 'Male'], inplace=True)\n",
    "df1.head()"
   ]
  },
  {
   "cell_type": "code",
   "execution_count": 717,
   "metadata": {},
   "outputs": [
    {
     "data": {
      "text/plain": [
       "12686"
      ]
     },
     "execution_count": 717,
     "metadata": {},
     "output_type": "execute_result"
    }
   ],
   "source": [
    "len(df1)"
   ]
  },
  {
   "cell_type": "code",
   "execution_count": 718,
   "metadata": {},
   "outputs": [
    {
     "data": {
      "text/plain": [
       "IDENTIFICATION CODE             0\n",
       "HEIGHT IN FEET               5411\n",
       "HEIGHT IN INCHES             5410\n",
       "AVERAGE MONTHLY EARNINGS    12523\n",
       "GENDER                       5775\n",
       "dtype: int64"
      ]
     },
     "execution_count": 718,
     "metadata": {},
     "output_type": "execute_result"
    }
   ],
   "source": [
    "df1.isnull().sum(axis = 0)"
   ]
  },
  {
   "cell_type": "code",
   "execution_count": 719,
   "metadata": {},
   "outputs": [],
   "source": [
    "df1 = df1.fillna(0)"
   ]
  },
  {
   "cell_type": "code",
   "execution_count": 721,
   "metadata": {},
   "outputs": [
    {
     "data": {
      "text/html": [
       "<div>\n",
       "<style>\n",
       "    .dataframe thead tr:only-child th {\n",
       "        text-align: right;\n",
       "    }\n",
       "\n",
       "    .dataframe thead th {\n",
       "        text-align: left;\n",
       "    }\n",
       "\n",
       "    .dataframe tbody tr th {\n",
       "        vertical-align: top;\n",
       "    }\n",
       "</style>\n",
       "<table border=\"1\" class=\"dataframe\">\n",
       "  <thead>\n",
       "    <tr style=\"text-align: right;\">\n",
       "      <th></th>\n",
       "      <th>IDENTIFICATION CODE</th>\n",
       "      <th>HEIGHT IN FEET</th>\n",
       "      <th>HEIGHT IN INCHES</th>\n",
       "      <th>AVERAGE MONTHLY EARNINGS</th>\n",
       "      <th>GENDER</th>\n",
       "    </tr>\n",
       "  </thead>\n",
       "  <tbody>\n",
       "    <tr>\n",
       "      <th>0</th>\n",
       "      <td>1</td>\n",
       "      <td>0.0</td>\n",
       "      <td>0.0</td>\n",
       "      <td>0.0</td>\n",
       "      <td>0</td>\n",
       "    </tr>\n",
       "    <tr>\n",
       "      <th>1</th>\n",
       "      <td>2</td>\n",
       "      <td>5.0</td>\n",
       "      <td>0.0</td>\n",
       "      <td>0.0</td>\n",
       "      <td>Female</td>\n",
       "    </tr>\n",
       "  </tbody>\n",
       "</table>\n",
       "</div>"
      ],
      "text/plain": [
       "   IDENTIFICATION CODE  HEIGHT IN FEET  HEIGHT IN INCHES  \\\n",
       "0                    1             0.0               0.0   \n",
       "1                    2             5.0               0.0   \n",
       "\n",
       "   AVERAGE MONTHLY EARNINGS  GENDER  \n",
       "0                       0.0       0  \n",
       "1                       0.0  Female  "
      ]
     },
     "execution_count": 721,
     "metadata": {},
     "output_type": "execute_result"
    }
   ],
   "source": [
    "df1.head(2)"
   ]
  },
  {
   "cell_type": "code",
   "execution_count": 722,
   "metadata": {},
   "outputs": [],
   "source": [
    "df1['HEIGHT IN FEET']*= 12 #converting feet to inches"
   ]
  },
  {
   "cell_type": "code",
   "execution_count": 725,
   "metadata": {
    "collapsed": true
   },
   "outputs": [],
   "source": [
    "df1['HEIGHT'] = df1['HEIGHT IN FEET']+ df1['HEIGHT IN INCHES']"
   ]
  },
  {
   "cell_type": "code",
   "execution_count": 729,
   "metadata": {},
   "outputs": [
    {
     "data": {
      "text/html": [
       "<div>\n",
       "<style>\n",
       "    .dataframe thead tr:only-child th {\n",
       "        text-align: right;\n",
       "    }\n",
       "\n",
       "    .dataframe thead th {\n",
       "        text-align: left;\n",
       "    }\n",
       "\n",
       "    .dataframe tbody tr th {\n",
       "        vertical-align: top;\n",
       "    }\n",
       "</style>\n",
       "<table border=\"1\" class=\"dataframe\">\n",
       "  <thead>\n",
       "    <tr style=\"text-align: right;\">\n",
       "      <th></th>\n",
       "      <th>IDENTIFICATION CODE</th>\n",
       "      <th>HEIGHT IN FEET</th>\n",
       "      <th>HEIGHT IN INCHES</th>\n",
       "      <th>AVERAGE MONTHLY EARNINGS</th>\n",
       "      <th>GENDER</th>\n",
       "      <th>HEIGHT</th>\n",
       "    </tr>\n",
       "  </thead>\n",
       "  <tbody>\n",
       "    <tr>\n",
       "      <th>0</th>\n",
       "      <td>1</td>\n",
       "      <td>0.0</td>\n",
       "      <td>0.0</td>\n",
       "      <td>0.0</td>\n",
       "      <td>0</td>\n",
       "      <td>0.0</td>\n",
       "    </tr>\n",
       "    <tr>\n",
       "      <th>1</th>\n",
       "      <td>2</td>\n",
       "      <td>60.0</td>\n",
       "      <td>0.0</td>\n",
       "      <td>0.0</td>\n",
       "      <td>Female</td>\n",
       "      <td>60.0</td>\n",
       "    </tr>\n",
       "  </tbody>\n",
       "</table>\n",
       "</div>"
      ],
      "text/plain": [
       "   IDENTIFICATION CODE  HEIGHT IN FEET  HEIGHT IN INCHES  \\\n",
       "0                    1             0.0               0.0   \n",
       "1                    2            60.0               0.0   \n",
       "\n",
       "   AVERAGE MONTHLY EARNINGS  GENDER  HEIGHT  \n",
       "0                       0.0       0     0.0  \n",
       "1                       0.0  Female    60.0  "
      ]
     },
     "execution_count": 729,
     "metadata": {},
     "output_type": "execute_result"
    }
   ],
   "source": [
    "df1.head(2) #check"
   ]
  },
  {
   "cell_type": "code",
   "execution_count": 730,
   "metadata": {},
   "outputs": [],
   "source": [
    "df1 = df1[df1['AVERAGE MONTHLY EARNINGS']!= 0]"
   ]
  },
  {
   "cell_type": "code",
   "execution_count": 731,
   "metadata": {
    "collapsed": true
   },
   "outputs": [],
   "source": [
    "df1 = df1[df1['HEIGHT']!= 0]"
   ]
  },
  {
   "cell_type": "code",
   "execution_count": 732,
   "metadata": {},
   "outputs": [
    {
     "data": {
      "text/html": [
       "<div>\n",
       "<style>\n",
       "    .dataframe thead tr:only-child th {\n",
       "        text-align: right;\n",
       "    }\n",
       "\n",
       "    .dataframe thead th {\n",
       "        text-align: left;\n",
       "    }\n",
       "\n",
       "    .dataframe tbody tr th {\n",
       "        vertical-align: top;\n",
       "    }\n",
       "</style>\n",
       "<table border=\"1\" class=\"dataframe\">\n",
       "  <thead>\n",
       "    <tr style=\"text-align: right;\">\n",
       "      <th></th>\n",
       "      <th>IDENTIFICATION CODE</th>\n",
       "      <th>HEIGHT IN FEET</th>\n",
       "      <th>HEIGHT IN INCHES</th>\n",
       "      <th>AVERAGE MONTHLY EARNINGS</th>\n",
       "      <th>GENDER</th>\n",
       "      <th>HEIGHT</th>\n",
       "    </tr>\n",
       "  </thead>\n",
       "  <tbody>\n",
       "    <tr>\n",
       "      <th>13</th>\n",
       "      <td>14</td>\n",
       "      <td>60.0</td>\n",
       "      <td>8.0</td>\n",
       "      <td>700000.0</td>\n",
       "      <td>Female</td>\n",
       "      <td>68.0</td>\n",
       "    </tr>\n",
       "    <tr>\n",
       "      <th>273</th>\n",
       "      <td>274</td>\n",
       "      <td>72.0</td>\n",
       "      <td>4.0</td>\n",
       "      <td>260000.0</td>\n",
       "      <td>Male</td>\n",
       "      <td>76.0</td>\n",
       "    </tr>\n",
       "    <tr>\n",
       "      <th>497</th>\n",
       "      <td>498</td>\n",
       "      <td>60.0</td>\n",
       "      <td>9.0</td>\n",
       "      <td>500000.0</td>\n",
       "      <td>Male</td>\n",
       "      <td>69.0</td>\n",
       "    </tr>\n",
       "    <tr>\n",
       "      <th>680</th>\n",
       "      <td>681</td>\n",
       "      <td>60.0</td>\n",
       "      <td>11.0</td>\n",
       "      <td>32500.0</td>\n",
       "      <td>Male</td>\n",
       "      <td>71.0</td>\n",
       "    </tr>\n",
       "    <tr>\n",
       "      <th>702</th>\n",
       "      <td>703</td>\n",
       "      <td>60.0</td>\n",
       "      <td>8.0</td>\n",
       "      <td>120000.0</td>\n",
       "      <td>Female</td>\n",
       "      <td>68.0</td>\n",
       "    </tr>\n",
       "  </tbody>\n",
       "</table>\n",
       "</div>"
      ],
      "text/plain": [
       "     IDENTIFICATION CODE  HEIGHT IN FEET  HEIGHT IN INCHES  \\\n",
       "13                    14            60.0               8.0   \n",
       "273                  274            72.0               4.0   \n",
       "497                  498            60.0               9.0   \n",
       "680                  681            60.0              11.0   \n",
       "702                  703            60.0               8.0   \n",
       "\n",
       "     AVERAGE MONTHLY EARNINGS  GENDER  HEIGHT  \n",
       "13                   700000.0  Female    68.0  \n",
       "273                  260000.0    Male    76.0  \n",
       "497                  500000.0    Male    69.0  \n",
       "680                   32500.0    Male    71.0  \n",
       "702                  120000.0  Female    68.0  "
      ]
     },
     "execution_count": 732,
     "metadata": {},
     "output_type": "execute_result"
    }
   ],
   "source": [
    "df1.head()"
   ]
  },
  {
   "cell_type": "code",
   "execution_count": 748,
   "metadata": {
    "collapsed": true
   },
   "outputs": [],
   "source": [
    "earning_standard79 = standardize(df1['AVERAGE MONTHLY EARNINGS'])\n",
    "height_standard79 = standardize(df1['HEIGHT'])"
   ]
  },
  {
   "cell_type": "code",
   "execution_count": 733,
   "metadata": {},
   "outputs": [],
   "source": [
    "slope1, intercept1, r_value1, p_value1, std_err1 = linregress(df1['HEIGHT'],df1['AVERAGE MONTHLY EARNINGS'])"
   ]
  },
  {
   "cell_type": "code",
   "execution_count": 834,
   "metadata": {},
   "outputs": [
    {
     "data": {
      "image/png": "[encoded data removed]",
      "text/plain": [
       "<matplotlib.figure.Figure at 0x1ac8504a8>"
      ]
     },
     "metadata": {},
     "output_type": "display_data"
    }
   ],
   "source": [
    "fig = plt.figure()\n",
    "ax1 = fig.add_subplot(111)\n",
    "ax1.scatter(height_standard79, earning_standard79, s=30, color='g', alpha = 0.6);\n",
    "plt.legend(loc='upper left')\n",
    "plt.show()"
   ]
  },
  {
   "cell_type": "code",
   "execution_count": 835,
   "metadata": {},
   "outputs": [
    {
     "data": {
      "text/plain": [
       "0.15317719669772242"
      ]
     },
     "execution_count": 835,
     "metadata": {},
     "output_type": "execute_result"
    }
   ],
   "source": [
    "np.corrcoef(height_standard79, earning_standard79)[0,1]"
   ]
  },
  {
   "cell_type": "markdown",
   "metadata": {},
   "source": [
    "While there is a positive correlation between height and earning. The correlation is only slight."
   ]
  },
  {
   "cell_type": "markdown",
   "metadata": {},
   "source": [
    "### QUESTION 3A: CORRELATION BETWEEN HEIGHT AND EARNINGS BY GENDER NLSY1979"
   ]
  },
  {
   "cell_type": "markdown",
   "metadata": {},
   "source": [
    "I am going to devide the results into two parts. One male and the other female, because I expect average heights of the two groups to be different. Therefore I would like to avoid the results of one dataset affecting the other. For instance, I would like to know if a relatively tall woman makes more than a relatively shorter woman.I would not want to confuse the results of a relatively tall woman with an relatively average man. \n",
    "I also expect gender to contribute to an individuals earnings. Essentially I expect women's average earning to be lower as well."
   ]
  },
  {
   "cell_type": "code",
   "execution_count": 737,
   "metadata": {},
   "outputs": [
    {
     "data": {
      "text/html": [
       "<div>\n",
       "<style>\n",
       "    .dataframe thead tr:only-child th {\n",
       "        text-align: right;\n",
       "    }\n",
       "\n",
       "    .dataframe thead th {\n",
       "        text-align: left;\n",
       "    }\n",
       "\n",
       "    .dataframe tbody tr th {\n",
       "        vertical-align: top;\n",
       "    }\n",
       "</style>\n",
       "<table border=\"1\" class=\"dataframe\">\n",
       "  <thead>\n",
       "    <tr style=\"text-align: right;\">\n",
       "      <th></th>\n",
       "      <th>IDENTIFICATION CODE</th>\n",
       "      <th>HEIGHT IN FEET</th>\n",
       "      <th>HEIGHT IN INCHES</th>\n",
       "      <th>AVERAGE MONTHLY EARNINGS</th>\n",
       "      <th>GENDER</th>\n",
       "      <th>HEIGHT</th>\n",
       "    </tr>\n",
       "  </thead>\n",
       "  <tbody>\n",
       "    <tr>\n",
       "      <th>13</th>\n",
       "      <td>14</td>\n",
       "      <td>60.0</td>\n",
       "      <td>8.0</td>\n",
       "      <td>700000.0</td>\n",
       "      <td>Female</td>\n",
       "      <td>68.0</td>\n",
       "    </tr>\n",
       "    <tr>\n",
       "      <th>702</th>\n",
       "      <td>703</td>\n",
       "      <td>60.0</td>\n",
       "      <td>8.0</td>\n",
       "      <td>120000.0</td>\n",
       "      <td>Female</td>\n",
       "      <td>68.0</td>\n",
       "    </tr>\n",
       "    <tr>\n",
       "      <th>745</th>\n",
       "      <td>746</td>\n",
       "      <td>60.0</td>\n",
       "      <td>4.0</td>\n",
       "      <td>500000.0</td>\n",
       "      <td>Female</td>\n",
       "      <td>64.0</td>\n",
       "    </tr>\n",
       "    <tr>\n",
       "      <th>1086</th>\n",
       "      <td>1087</td>\n",
       "      <td>60.0</td>\n",
       "      <td>3.0</td>\n",
       "      <td>90000.0</td>\n",
       "      <td>Female</td>\n",
       "      <td>63.0</td>\n",
       "    </tr>\n",
       "    <tr>\n",
       "      <th>1309</th>\n",
       "      <td>1310</td>\n",
       "      <td>60.0</td>\n",
       "      <td>8.0</td>\n",
       "      <td>10000.0</td>\n",
       "      <td>Female</td>\n",
       "      <td>68.0</td>\n",
       "    </tr>\n",
       "  </tbody>\n",
       "</table>\n",
       "</div>"
      ],
      "text/plain": [
       "      IDENTIFICATION CODE  HEIGHT IN FEET  HEIGHT IN INCHES  \\\n",
       "13                     14            60.0               8.0   \n",
       "702                   703            60.0               8.0   \n",
       "745                   746            60.0               4.0   \n",
       "1086                 1087            60.0               3.0   \n",
       "1309                 1310            60.0               8.0   \n",
       "\n",
       "      AVERAGE MONTHLY EARNINGS  GENDER  HEIGHT  \n",
       "13                    700000.0  Female    68.0  \n",
       "702                   120000.0  Female    68.0  \n",
       "745                   500000.0  Female    64.0  \n",
       "1086                   90000.0  Female    63.0  \n",
       "1309                   10000.0  Female    68.0  "
      ]
     },
     "execution_count": 737,
     "metadata": {},
     "output_type": "execute_result"
    }
   ],
   "source": [
    "f_earning = df1.loc[df1['GENDER'] == 'Female']\n",
    "f_earning.head()"
   ]
  },
  {
   "cell_type": "code",
   "execution_count": 738,
   "metadata": {},
   "outputs": [
    {
     "data": {
      "text/html": [
       "<div>\n",
       "<style>\n",
       "    .dataframe thead tr:only-child th {\n",
       "        text-align: right;\n",
       "    }\n",
       "\n",
       "    .dataframe thead th {\n",
       "        text-align: left;\n",
       "    }\n",
       "\n",
       "    .dataframe tbody tr th {\n",
       "        vertical-align: top;\n",
       "    }\n",
       "</style>\n",
       "<table border=\"1\" class=\"dataframe\">\n",
       "  <thead>\n",
       "    <tr style=\"text-align: right;\">\n",
       "      <th></th>\n",
       "      <th>IDENTIFICATION CODE</th>\n",
       "      <th>HEIGHT IN FEET</th>\n",
       "      <th>HEIGHT IN INCHES</th>\n",
       "      <th>AVERAGE MONTHLY EARNINGS</th>\n",
       "      <th>GENDER</th>\n",
       "      <th>HEIGHT</th>\n",
       "    </tr>\n",
       "  </thead>\n",
       "  <tbody>\n",
       "    <tr>\n",
       "      <th>273</th>\n",
       "      <td>274</td>\n",
       "      <td>72.0</td>\n",
       "      <td>4.0</td>\n",
       "      <td>260000.0</td>\n",
       "      <td>Male</td>\n",
       "      <td>76.0</td>\n",
       "    </tr>\n",
       "    <tr>\n",
       "      <th>497</th>\n",
       "      <td>498</td>\n",
       "      <td>60.0</td>\n",
       "      <td>9.0</td>\n",
       "      <td>500000.0</td>\n",
       "      <td>Male</td>\n",
       "      <td>69.0</td>\n",
       "    </tr>\n",
       "    <tr>\n",
       "      <th>680</th>\n",
       "      <td>681</td>\n",
       "      <td>60.0</td>\n",
       "      <td>11.0</td>\n",
       "      <td>32500.0</td>\n",
       "      <td>Male</td>\n",
       "      <td>71.0</td>\n",
       "    </tr>\n",
       "    <tr>\n",
       "      <th>734</th>\n",
       "      <td>735</td>\n",
       "      <td>72.0</td>\n",
       "      <td>1.0</td>\n",
       "      <td>90000.0</td>\n",
       "      <td>Male</td>\n",
       "      <td>73.0</td>\n",
       "    </tr>\n",
       "    <tr>\n",
       "      <th>762</th>\n",
       "      <td>763</td>\n",
       "      <td>60.0</td>\n",
       "      <td>10.0</td>\n",
       "      <td>200000.0</td>\n",
       "      <td>Male</td>\n",
       "      <td>70.0</td>\n",
       "    </tr>\n",
       "  </tbody>\n",
       "</table>\n",
       "</div>"
      ],
      "text/plain": [
       "     IDENTIFICATION CODE  HEIGHT IN FEET  HEIGHT IN INCHES  \\\n",
       "273                  274            72.0               4.0   \n",
       "497                  498            60.0               9.0   \n",
       "680                  681            60.0              11.0   \n",
       "734                  735            72.0               1.0   \n",
       "762                  763            60.0              10.0   \n",
       "\n",
       "     AVERAGE MONTHLY EARNINGS GENDER  HEIGHT  \n",
       "273                  260000.0   Male    76.0  \n",
       "497                  500000.0   Male    69.0  \n",
       "680                   32500.0   Male    71.0  \n",
       "734                   90000.0   Male    73.0  \n",
       "762                  200000.0   Male    70.0  "
      ]
     },
     "execution_count": 738,
     "metadata": {},
     "output_type": "execute_result"
    }
   ],
   "source": [
    "m_earning = df1.loc[df1['GENDER'] == 'Male']\n",
    "m_earning.head()"
   ]
  },
  {
   "cell_type": "markdown",
   "metadata": {},
   "source": [
    "Determining who is 'tall' and 'short' for both datasets. Anyone above the mean will be considered tall and anyone below will be considered short."
   ]
  },
  {
   "cell_type": "code",
   "execution_count": 739,
   "metadata": {},
   "outputs": [
    {
     "data": {
      "text/plain": [
       "64.36111111111111"
      ]
     },
     "execution_count": 739,
     "metadata": {},
     "output_type": "execute_result"
    }
   ],
   "source": [
    "f_earning['HEIGHT'].mean()"
   ]
  },
  {
   "cell_type": "code",
   "execution_count": 740,
   "metadata": {},
   "outputs": [
    {
     "data": {
      "text/plain": [
       "70.67088607594937"
      ]
     },
     "execution_count": 740,
     "metadata": {},
     "output_type": "execute_result"
    }
   ],
   "source": [
    "m_earning['HEIGHT'].mean()"
   ]
  },
  {
   "cell_type": "code",
   "execution_count": 741,
   "metadata": {
    "collapsed": true
   },
   "outputs": [],
   "source": [
    "def fheight(x):\n",
    "    if x >= 64.36111111111111:\n",
    "        return 'tall'\n",
    "    else:\n",
    "        return 'short'"
   ]
  },
  {
   "cell_type": "code",
   "execution_count": 742,
   "metadata": {},
   "outputs": [
    {
     "name": "stderr",
     "output_type": "stream",
     "text": [
      "/anaconda/lib/python3.6/site-packages/ipykernel_launcher.py:1: SettingWithCopyWarning: \n",
      "A value is trying to be set on a copy of a slice from a DataFrame.\n",
      "Try using .loc[row_indexer,col_indexer] = value instead\n",
      "\n",
      "See the caveats in the documentation: http://pandas.pydata.org/pandas-docs/stable/indexing.html#indexing-view-versus-copy\n",
      "  \"\"\"Entry point for launching an IPython kernel.\n"
     ]
    },
    {
     "data": {
      "text/html": [
       "<div>\n",
       "<style>\n",
       "    .dataframe thead tr:only-child th {\n",
       "        text-align: right;\n",
       "    }\n",
       "\n",
       "    .dataframe thead th {\n",
       "        text-align: left;\n",
       "    }\n",
       "\n",
       "    .dataframe tbody tr th {\n",
       "        vertical-align: top;\n",
       "    }\n",
       "</style>\n",
       "<table border=\"1\" class=\"dataframe\">\n",
       "  <thead>\n",
       "    <tr style=\"text-align: right;\">\n",
       "      <th></th>\n",
       "      <th>IDENTIFICATION CODE</th>\n",
       "      <th>HEIGHT IN FEET</th>\n",
       "      <th>HEIGHT IN INCHES</th>\n",
       "      <th>AVERAGE MONTHLY EARNINGS</th>\n",
       "      <th>GENDER</th>\n",
       "      <th>HEIGHT</th>\n",
       "      <th>Relative Height</th>\n",
       "    </tr>\n",
       "  </thead>\n",
       "  <tbody>\n",
       "    <tr>\n",
       "      <th>13</th>\n",
       "      <td>14</td>\n",
       "      <td>60.0</td>\n",
       "      <td>8.0</td>\n",
       "      <td>700000.0</td>\n",
       "      <td>Female</td>\n",
       "      <td>68.0</td>\n",
       "      <td>tall</td>\n",
       "    </tr>\n",
       "    <tr>\n",
       "      <th>702</th>\n",
       "      <td>703</td>\n",
       "      <td>60.0</td>\n",
       "      <td>8.0</td>\n",
       "      <td>120000.0</td>\n",
       "      <td>Female</td>\n",
       "      <td>68.0</td>\n",
       "      <td>tall</td>\n",
       "    </tr>\n",
       "    <tr>\n",
       "      <th>745</th>\n",
       "      <td>746</td>\n",
       "      <td>60.0</td>\n",
       "      <td>4.0</td>\n",
       "      <td>500000.0</td>\n",
       "      <td>Female</td>\n",
       "      <td>64.0</td>\n",
       "      <td>short</td>\n",
       "    </tr>\n",
       "    <tr>\n",
       "      <th>1086</th>\n",
       "      <td>1087</td>\n",
       "      <td>60.0</td>\n",
       "      <td>3.0</td>\n",
       "      <td>90000.0</td>\n",
       "      <td>Female</td>\n",
       "      <td>63.0</td>\n",
       "      <td>short</td>\n",
       "    </tr>\n",
       "    <tr>\n",
       "      <th>1309</th>\n",
       "      <td>1310</td>\n",
       "      <td>60.0</td>\n",
       "      <td>8.0</td>\n",
       "      <td>10000.0</td>\n",
       "      <td>Female</td>\n",
       "      <td>68.0</td>\n",
       "      <td>tall</td>\n",
       "    </tr>\n",
       "  </tbody>\n",
       "</table>\n",
       "</div>"
      ],
      "text/plain": [
       "      IDENTIFICATION CODE  HEIGHT IN FEET  HEIGHT IN INCHES  \\\n",
       "13                     14            60.0               8.0   \n",
       "702                   703            60.0               8.0   \n",
       "745                   746            60.0               4.0   \n",
       "1086                 1087            60.0               3.0   \n",
       "1309                 1310            60.0               8.0   \n",
       "\n",
       "      AVERAGE MONTHLY EARNINGS  GENDER  HEIGHT Relative Height  \n",
       "13                    700000.0  Female    68.0            tall  \n",
       "702                   120000.0  Female    68.0            tall  \n",
       "745                   500000.0  Female    64.0           short  \n",
       "1086                   90000.0  Female    63.0           short  \n",
       "1309                   10000.0  Female    68.0            tall  "
      ]
     },
     "execution_count": 742,
     "metadata": {},
     "output_type": "execute_result"
    }
   ],
   "source": [
    "f_earning['Relative Height'] = f_earning['HEIGHT'].apply(fheight)\n",
    "f_earning.head()"
   ]
  },
  {
   "cell_type": "code",
   "execution_count": 743,
   "metadata": {
    "collapsed": true
   },
   "outputs": [],
   "source": [
    "def mheight(x):\n",
    "    if x >= 70.67088607594937:\n",
    "        return 'tall'\n",
    "    else:\n",
    "        return 'short'"
   ]
  },
  {
   "cell_type": "code",
   "execution_count": 744,
   "metadata": {},
   "outputs": [
    {
     "name": "stderr",
     "output_type": "stream",
     "text": [
      "/anaconda/lib/python3.6/site-packages/ipykernel_launcher.py:1: SettingWithCopyWarning: \n",
      "A value is trying to be set on a copy of a slice from a DataFrame.\n",
      "Try using .loc[row_indexer,col_indexer] = value instead\n",
      "\n",
      "See the caveats in the documentation: http://pandas.pydata.org/pandas-docs/stable/indexing.html#indexing-view-versus-copy\n",
      "  \"\"\"Entry point for launching an IPython kernel.\n"
     ]
    }
   ],
   "source": [
    "m_earning['Relative Height'] = m_earning['HEIGHT'].apply(mheight)"
   ]
  },
  {
   "cell_type": "code",
   "execution_count": 609,
   "metadata": {},
   "outputs": [
    {
     "data": {
      "text/html": [
       "<div>\n",
       "<style>\n",
       "    .dataframe thead tr:only-child th {\n",
       "        text-align: right;\n",
       "    }\n",
       "\n",
       "    .dataframe thead th {\n",
       "        text-align: left;\n",
       "    }\n",
       "\n",
       "    .dataframe tbody tr th {\n",
       "        vertical-align: top;\n",
       "    }\n",
       "</style>\n",
       "<table border=\"1\" class=\"dataframe\">\n",
       "  <thead>\n",
       "    <tr style=\"text-align: right;\">\n",
       "      <th></th>\n",
       "      <th>IDENTIFICATION CODE</th>\n",
       "      <th>HEIGHT IN FEET</th>\n",
       "      <th>HEIGHT IN INCHES</th>\n",
       "      <th>AVERAGE MONTHLY EARNINGS</th>\n",
       "      <th>GENDER</th>\n",
       "      <th>HEIGHT</th>\n",
       "      <th>Relative Height</th>\n",
       "    </tr>\n",
       "  </thead>\n",
       "  <tbody>\n",
       "    <tr>\n",
       "      <th>13</th>\n",
       "      <td>14</td>\n",
       "      <td>60.0</td>\n",
       "      <td>8.0</td>\n",
       "      <td>700000.0</td>\n",
       "      <td>Female</td>\n",
       "      <td>68.0</td>\n",
       "      <td>tall</td>\n",
       "    </tr>\n",
       "    <tr>\n",
       "      <th>702</th>\n",
       "      <td>703</td>\n",
       "      <td>60.0</td>\n",
       "      <td>8.0</td>\n",
       "      <td>120000.0</td>\n",
       "      <td>Female</td>\n",
       "      <td>68.0</td>\n",
       "      <td>tall</td>\n",
       "    </tr>\n",
       "    <tr>\n",
       "      <th>745</th>\n",
       "      <td>746</td>\n",
       "      <td>60.0</td>\n",
       "      <td>4.0</td>\n",
       "      <td>500000.0</td>\n",
       "      <td>Female</td>\n",
       "      <td>64.0</td>\n",
       "      <td>short</td>\n",
       "    </tr>\n",
       "    <tr>\n",
       "      <th>1086</th>\n",
       "      <td>1087</td>\n",
       "      <td>60.0</td>\n",
       "      <td>3.0</td>\n",
       "      <td>90000.0</td>\n",
       "      <td>Female</td>\n",
       "      <td>63.0</td>\n",
       "      <td>short</td>\n",
       "    </tr>\n",
       "    <tr>\n",
       "      <th>1309</th>\n",
       "      <td>1310</td>\n",
       "      <td>60.0</td>\n",
       "      <td>8.0</td>\n",
       "      <td>10000.0</td>\n",
       "      <td>Female</td>\n",
       "      <td>68.0</td>\n",
       "      <td>tall</td>\n",
       "    </tr>\n",
       "  </tbody>\n",
       "</table>\n",
       "</div>"
      ],
      "text/plain": [
       "      IDENTIFICATION CODE  HEIGHT IN FEET  HEIGHT IN INCHES  \\\n",
       "13                     14            60.0               8.0   \n",
       "702                   703            60.0               8.0   \n",
       "745                   746            60.0               4.0   \n",
       "1086                 1087            60.0               3.0   \n",
       "1309                 1310            60.0               8.0   \n",
       "\n",
       "      AVERAGE MONTHLY EARNINGS  GENDER  HEIGHT Relative Height  \n",
       "13                    700000.0  Female    68.0            tall  \n",
       "702                   120000.0  Female    68.0            tall  \n",
       "745                   500000.0  Female    64.0           short  \n",
       "1086                   90000.0  Female    63.0           short  \n",
       "1309                   10000.0  Female    68.0            tall  "
      ]
     },
     "execution_count": 609,
     "metadata": {},
     "output_type": "execute_result"
    }
   ],
   "source": [
    "f_earning.head()"
   ]
  },
  {
   "cell_type": "markdown",
   "metadata": {},
   "source": [
    "### WOMEN NLSY1979"
   ]
  },
  {
   "cell_type": "code",
   "execution_count": 665,
   "metadata": {},
   "outputs": [
    {
     "data": {
      "image/png": "[encoded data removed]",
      "text/plain": [
       "<matplotlib.figure.Figure at 0x11da12a20>"
      ]
     },
     "metadata": {},
     "output_type": "display_data"
    }
   ],
   "source": [
    "fig = plt.figure()\n",
    "ax1 = fig.add_subplot(111)\n",
    "ax1.scatter(f_earning['HEIGHT'], f_earning['AVERAGE MONTHLY EARNINGS'], s=30, color='g', alpha = 0.6);\n",
    "plt.show()"
   ]
  },
  {
   "cell_type": "code",
   "execution_count": 399,
   "metadata": {},
   "outputs": [
    {
     "data": {
      "text/plain": [
       "0.069941830631959259"
      ]
     },
     "execution_count": 399,
     "metadata": {},
     "output_type": "execute_result"
    }
   ],
   "source": [
    "np.corrcoef(f_earning['HEIGHT'], f_earning['AVERAGE MONTHLY EARNINGS'])[0,1]"
   ]
  },
  {
   "cell_type": "markdown",
   "metadata": {},
   "source": [
    "### MEN NLSY1979"
   ]
  },
  {
   "cell_type": "code",
   "execution_count": 666,
   "metadata": {},
   "outputs": [
    {
     "data": {
      "image/png": "[encoded data removed]",
      "text/plain": [
       "<matplotlib.figure.Figure at 0x1a717f588>"
      ]
     },
     "metadata": {},
     "output_type": "display_data"
    }
   ],
   "source": [
    "fig = plt.figure()\n",
    "ax1 = fig.add_subplot(111)\n",
    "ax1.scatter(m_earning['HEIGHT'], m_earning['AVERAGE MONTHLY EARNINGS'], s=30, color='g', alpha = 0.6);\n",
    "plt.show()"
   ]
  },
  {
   "cell_type": "code",
   "execution_count": 402,
   "metadata": {},
   "outputs": [
    {
     "data": {
      "text/plain": [
       "0.033926112687277514"
      ]
     },
     "execution_count": 402,
     "metadata": {},
     "output_type": "execute_result"
    }
   ],
   "source": [
    "np.corrcoef(m_earning['HEIGHT'], m_earning['AVERAGE MONTHLY EARNINGS'])[0,1]"
   ]
  },
  {
   "cell_type": "markdown",
   "metadata": {},
   "source": [
    "#### What if we standardized the data?"
   ]
  },
  {
   "cell_type": "code",
   "execution_count": 651,
   "metadata": {
    "collapsed": true
   },
   "outputs": [],
   "source": [
    "def standardize(numbers):\n",
    "    return (numbers - np.mean(numbers))/np.std(numbers) "
   ]
  },
  {
   "cell_type": "code",
   "execution_count": 653,
   "metadata": {
    "collapsed": true
   },
   "outputs": [],
   "source": [
    "#Men\n",
    "mheight_standard = standardize(m_earning['HEIGHT'])\n",
    "mearnings_standard = standardize(m_earning['AVERAGE MONTHLY EARNINGS'])\n",
    "\n",
    "#Women\n",
    "fheight_standard = standardize(f_earning['HEIGHT'])\n",
    "fearnings_standard = standardize(f_earning['AVERAGE MONTHLY EARNINGS'])"
   ]
  },
  {
   "cell_type": "code",
   "execution_count": 667,
   "metadata": {},
   "outputs": [
    {
     "data": {
      "image/png": "[encoded data removed]",
      "text/plain": [
       "<matplotlib.figure.Figure at 0x11dd6c5f8>"
      ]
     },
     "metadata": {},
     "output_type": "display_data"
    }
   ],
   "source": [
    "fig = plt.figure()\n",
    "ax1 = fig.add_subplot(111)\n",
    "ax1.scatter(mheight_standard, mearnings_standard, s=30, color='g', alpha = 0.6);\n",
    "plt.show()"
   ]
  },
  {
   "cell_type": "code",
   "execution_count": 655,
   "metadata": {},
   "outputs": [
    {
     "data": {
      "text/plain": [
       "0.033926112687277514"
      ]
     },
     "execution_count": 655,
     "metadata": {},
     "output_type": "execute_result"
    }
   ],
   "source": [
    "np.corrcoef(mheight_standard, mearnings_standard)[0,1]"
   ]
  },
  {
   "cell_type": "code",
   "execution_count": 656,
   "metadata": {},
   "outputs": [
    {
     "data": {
      "text/plain": [
       "LinregressResult(slope=0.033926112687277521, intercept=1.0759439304211826e-17, rvalue=0.033926112687277521, pvalue=0.76660317509759868, stderr=0.11389497434142061)"
      ]
     },
     "execution_count": 656,
     "metadata": {},
     "output_type": "execute_result"
    }
   ],
   "source": [
    "linregress(mheight_standard,mearnings_standard)"
   ]
  },
  {
   "cell_type": "code",
   "execution_count": 668,
   "metadata": {},
   "outputs": [
    {
     "data": {
      "image/png": "[encoded data removed]",
      "text/plain": [
       "<matplotlib.figure.Figure at 0x1ac8263c8>"
      ]
     },
     "metadata": {},
     "output_type": "display_data"
    }
   ],
   "source": [
    "fig = plt.figure()\n",
    "ax1 = fig.add_subplot(111)\n",
    "ax1.scatter(fheight_standard, fearnings_standard, s=30, color='g', alpha = 0.6);\n",
    "plt.show()"
   ]
  },
  {
   "cell_type": "code",
   "execution_count": 658,
   "metadata": {},
   "outputs": [
    {
     "data": {
      "text/plain": [
       "0.069941830631959301"
      ]
     },
     "execution_count": 658,
     "metadata": {},
     "output_type": "execute_result"
    }
   ],
   "source": [
    "np.corrcoef(fheight_standard, fearnings_standard)[0,1]"
   ]
  },
  {
   "cell_type": "code",
   "execution_count": 659,
   "metadata": {},
   "outputs": [
    {
     "data": {
      "text/plain": [
       "LinregressResult(slope=0.069941830631959301, intercept=7.5149979289629463e-17, rvalue=0.069941830631959315, pvalue=0.55935146231062904, stderr=0.11923015799751396)"
      ]
     },
     "execution_count": 659,
     "metadata": {},
     "output_type": "execute_result"
    }
   ],
   "source": [
    "linregress(fheight_standard,fearnings_standard)"
   ]
  },
  {
   "cell_type": "markdown",
   "metadata": {},
   "source": [
    "The correlation between women's earnings and their height seems almost nonexistant. Perhaps other factors play a greater role in the amount of money they make. My hypothesis based on external readings is that the correlation between height and earnings is generally based in how 'physically attractive' someone is. With this in mind height may play a smaller role in whether society deems women more attractive, relative to men."
   ]
  },
  {
   "cell_type": "markdown",
   "metadata": {},
   "source": [
    "# NLSY97"
   ]
  },
  {
   "cell_type": "code",
   "execution_count": 768,
   "metadata": {},
   "outputs": [
    {
     "data": {
      "text/html": [
       "<div>\n",
       "<style>\n",
       "    .dataframe thead tr:only-child th {\n",
       "        text-align: right;\n",
       "    }\n",
       "\n",
       "    .dataframe thead th {\n",
       "        text-align: left;\n",
       "    }\n",
       "\n",
       "    .dataframe tbody tr th {\n",
       "        vertical-align: top;\n",
       "    }\n",
       "</style>\n",
       "<table border=\"1\" class=\"dataframe\">\n",
       "  <thead>\n",
       "    <tr style=\"text-align: right;\">\n",
       "      <th></th>\n",
       "      <th>R0000100</th>\n",
       "      <th>R0536300</th>\n",
       "      <th>R0536401</th>\n",
       "      <th>R0536402</th>\n",
       "      <th>R1235800</th>\n",
       "      <th>R1482600</th>\n",
       "      <th>T7635600</th>\n",
       "      <th>T7635700</th>\n",
       "      <th>U0389900</th>\n",
       "      <th>U0390900</th>\n",
       "    </tr>\n",
       "  </thead>\n",
       "  <tbody>\n",
       "    <tr>\n",
       "      <th>0</th>\n",
       "      <td>1</td>\n",
       "      <td>2</td>\n",
       "      <td>9</td>\n",
       "      <td>1981</td>\n",
       "      <td>1</td>\n",
       "      <td>4</td>\n",
       "      <td>5</td>\n",
       "      <td>7</td>\n",
       "      <td>-4</td>\n",
       "      <td>-4</td>\n",
       "    </tr>\n",
       "    <tr>\n",
       "      <th>1</th>\n",
       "      <td>2</td>\n",
       "      <td>1</td>\n",
       "      <td>7</td>\n",
       "      <td>1982</td>\n",
       "      <td>1</td>\n",
       "      <td>2</td>\n",
       "      <td>5</td>\n",
       "      <td>7</td>\n",
       "      <td>-4</td>\n",
       "      <td>-4</td>\n",
       "    </tr>\n",
       "    <tr>\n",
       "      <th>2</th>\n",
       "      <td>3</td>\n",
       "      <td>2</td>\n",
       "      <td>9</td>\n",
       "      <td>1983</td>\n",
       "      <td>1</td>\n",
       "      <td>2</td>\n",
       "      <td>5</td>\n",
       "      <td>-2</td>\n",
       "      <td>-5</td>\n",
       "      <td>-5</td>\n",
       "    </tr>\n",
       "    <tr>\n",
       "      <th>3</th>\n",
       "      <td>4</td>\n",
       "      <td>2</td>\n",
       "      <td>2</td>\n",
       "      <td>1981</td>\n",
       "      <td>1</td>\n",
       "      <td>2</td>\n",
       "      <td>5</td>\n",
       "      <td>1</td>\n",
       "      <td>-4</td>\n",
       "      <td>-4</td>\n",
       "    </tr>\n",
       "    <tr>\n",
       "      <th>4</th>\n",
       "      <td>5</td>\n",
       "      <td>1</td>\n",
       "      <td>10</td>\n",
       "      <td>1982</td>\n",
       "      <td>1</td>\n",
       "      <td>2</td>\n",
       "      <td>5</td>\n",
       "      <td>6</td>\n",
       "      <td>-4</td>\n",
       "      <td>-4</td>\n",
       "    </tr>\n",
       "  </tbody>\n",
       "</table>\n",
       "</div>"
      ],
      "text/plain": [
       "   R0000100  R0536300  R0536401  R0536402  R1235800  R1482600  T7635600  \\\n",
       "0         1         2         9      1981         1         4         5   \n",
       "1         2         1         7      1982         1         2         5   \n",
       "2         3         2         9      1983         1         2         5   \n",
       "3         4         2         2      1981         1         2         5   \n",
       "4         5         1        10      1982         1         2         5   \n",
       "\n",
       "   T7635700  U0389900  U0390900  \n",
       "0         7        -4        -4  \n",
       "1         7        -4        -4  \n",
       "2        -2        -5        -5  \n",
       "3         1        -4        -4  \n",
       "4         6        -4        -4  "
      ]
     },
     "execution_count": 768,
     "metadata": {},
     "output_type": "execute_result"
    }
   ],
   "source": [
    "NLSY_1997.head()"
   ]
  },
  {
   "cell_type": "markdown",
   "metadata": {},
   "source": [
    "#### Key:\n",
    "\n",
    "R0000100 = IDENTIFICATION CODE\n",
    "\n",
    "R0536300 = GENDER (1: Male, 2: Female, 0: No Information )\n",
    "\n",
    "R0536401 = BIRTHDATE MONTH\n",
    "\n",
    "R0536402 = BIRTHDATE YEAR\n",
    "\n",
    "R1235800 = CROSS-SECTIONAL OR OVERSAMPLE\n",
    "\n",
    "R1482600 = RACE_ETHNICITY\n",
    "\n",
    "T7635600 = HEIGHT IN FEET\n",
    "\n",
    "T7635700 = HEIGHT IN INCHES\n",
    "\n",
    "U0389900 = NONHOURLY EARNINGS(NO OVERTIME)\n",
    "\n",
    "U0390900 = NONHOURLY EARNINGS (OVERTIME)\n",
    "\n",
    "#### Value Key:\n",
    "\n",
    "VALID SKIP(-4) \n",
    "\n",
    "NON-INTERVIEW(-5)\n",
    "\n",
    "Refusal(-1)  \n",
    "\n",
    "Don't Know(-2)\n"
   ]
  },
  {
   "cell_type": "code",
   "execution_count": 769,
   "metadata": {},
   "outputs": [],
   "source": [
    "df2 = NLSY_1997.rename(columns=\n",
    "                       {\"R0000100\": 'IDENTIFICATION CODE',\n",
    "                        \"R0536300\": 'GENDER',\n",
    "                        \"R0536401\": \"BIRTHDATE MONTH\",\n",
    "                        \"R0536402\": \"BIRTHDATE YEAR\",\n",
    "                        \"R1235800\": 'CROSS-SECTIONAL OR OVERSAMPLE',\n",
    "                        \"R1482600\": 'RACE_ETHNICITY',\n",
    "                        \"T7635600\":\"HEIGHT IN FEET\",\n",
    "                        \"T7635700\": 'HEIGHT IN INCHES',\n",
    "                        \"U0389900\":\"NONHOURLY EARNINGS(NO OVERTIME)\",\n",
    "                        \"U0390900\": \"NONHOURLY EARNINGS (OVERTIME)\" })"
   ]
  },
  {
   "cell_type": "code",
   "execution_count": 770,
   "metadata": {},
   "outputs": [
    {
     "data": {
      "text/html": [
       "<div>\n",
       "<style>\n",
       "    .dataframe thead tr:only-child th {\n",
       "        text-align: right;\n",
       "    }\n",
       "\n",
       "    .dataframe thead th {\n",
       "        text-align: left;\n",
       "    }\n",
       "\n",
       "    .dataframe tbody tr th {\n",
       "        vertical-align: top;\n",
       "    }\n",
       "</style>\n",
       "<table border=\"1\" class=\"dataframe\">\n",
       "  <thead>\n",
       "    <tr style=\"text-align: right;\">\n",
       "      <th></th>\n",
       "      <th>IDENTIFICATION CODE</th>\n",
       "      <th>GENDER</th>\n",
       "      <th>BIRTHDATE MONTH</th>\n",
       "      <th>BIRTHDATE YEAR</th>\n",
       "      <th>CROSS-SECTIONAL OR OVERSAMPLE</th>\n",
       "      <th>RACE_ETHNICITY</th>\n",
       "      <th>HEIGHT IN FEET</th>\n",
       "      <th>HEIGHT IN INCHES</th>\n",
       "      <th>NONHOURLY EARNINGS(NO OVERTIME)</th>\n",
       "      <th>NONHOURLY EARNINGS (OVERTIME)</th>\n",
       "    </tr>\n",
       "  </thead>\n",
       "  <tbody>\n",
       "    <tr>\n",
       "      <th>0</th>\n",
       "      <td>1</td>\n",
       "      <td>2</td>\n",
       "      <td>9</td>\n",
       "      <td>1981</td>\n",
       "      <td>1</td>\n",
       "      <td>4</td>\n",
       "      <td>5</td>\n",
       "      <td>7</td>\n",
       "      <td>-4</td>\n",
       "      <td>-4</td>\n",
       "    </tr>\n",
       "    <tr>\n",
       "      <th>1</th>\n",
       "      <td>2</td>\n",
       "      <td>1</td>\n",
       "      <td>7</td>\n",
       "      <td>1982</td>\n",
       "      <td>1</td>\n",
       "      <td>2</td>\n",
       "      <td>5</td>\n",
       "      <td>7</td>\n",
       "      <td>-4</td>\n",
       "      <td>-4</td>\n",
       "    </tr>\n",
       "  </tbody>\n",
       "</table>\n",
       "</div>"
      ],
      "text/plain": [
       "   IDENTIFICATION CODE  GENDER  BIRTHDATE MONTH  BIRTHDATE YEAR  \\\n",
       "0                    1       2                9            1981   \n",
       "1                    2       1                7            1982   \n",
       "\n",
       "   CROSS-SECTIONAL OR OVERSAMPLE  RACE_ETHNICITY  HEIGHT IN FEET  \\\n",
       "0                              1               4               5   \n",
       "1                              1               2               5   \n",
       "\n",
       "   HEIGHT IN INCHES  NONHOURLY EARNINGS(NO OVERTIME)  \\\n",
       "0                 7                               -4   \n",
       "1                 7                               -4   \n",
       "\n",
       "   NONHOURLY EARNINGS (OVERTIME)  \n",
       "0                             -4  \n",
       "1                             -4  "
      ]
     },
     "execution_count": 770,
     "metadata": {},
     "output_type": "execute_result"
    }
   ],
   "source": [
    "df2.head(2)"
   ]
  },
  {
   "cell_type": "code",
   "execution_count": 771,
   "metadata": {
    "collapsed": true
   },
   "outputs": [],
   "source": [
    "df2 = df2.replace(-4, 0)"
   ]
  },
  {
   "cell_type": "code",
   "execution_count": 772,
   "metadata": {
    "collapsed": true
   },
   "outputs": [],
   "source": [
    "df2 = df2.replace(-5, 0)"
   ]
  },
  {
   "cell_type": "code",
   "execution_count": 773,
   "metadata": {
    "collapsed": true
   },
   "outputs": [],
   "source": [
    "df2 = df2.replace(-2, 0)"
   ]
  },
  {
   "cell_type": "code",
   "execution_count": 774,
   "metadata": {
    "collapsed": true
   },
   "outputs": [],
   "source": [
    "df2 = df2.replace(-1, 0)"
   ]
  },
  {
   "cell_type": "code",
   "execution_count": 775,
   "metadata": {},
   "outputs": [
    {
     "data": {
      "text/html": [
       "<div>\n",
       "<style>\n",
       "    .dataframe thead tr:only-child th {\n",
       "        text-align: right;\n",
       "    }\n",
       "\n",
       "    .dataframe thead th {\n",
       "        text-align: left;\n",
       "    }\n",
       "\n",
       "    .dataframe tbody tr th {\n",
       "        vertical-align: top;\n",
       "    }\n",
       "</style>\n",
       "<table border=\"1\" class=\"dataframe\">\n",
       "  <thead>\n",
       "    <tr style=\"text-align: right;\">\n",
       "      <th></th>\n",
       "      <th>IDENTIFICATION CODE</th>\n",
       "      <th>GENDER</th>\n",
       "      <th>BIRTHDATE MONTH</th>\n",
       "      <th>BIRTHDATE YEAR</th>\n",
       "      <th>CROSS-SECTIONAL OR OVERSAMPLE</th>\n",
       "      <th>RACE_ETHNICITY</th>\n",
       "      <th>HEIGHT IN FEET</th>\n",
       "      <th>HEIGHT IN INCHES</th>\n",
       "      <th>NONHOURLY EARNINGS(NO OVERTIME)</th>\n",
       "      <th>NONHOURLY EARNINGS (OVERTIME)</th>\n",
       "    </tr>\n",
       "  </thead>\n",
       "  <tbody>\n",
       "    <tr>\n",
       "      <th>0</th>\n",
       "      <td>1</td>\n",
       "      <td>2</td>\n",
       "      <td>9</td>\n",
       "      <td>1981</td>\n",
       "      <td>1</td>\n",
       "      <td>4</td>\n",
       "      <td>5</td>\n",
       "      <td>7</td>\n",
       "      <td>0</td>\n",
       "      <td>0</td>\n",
       "    </tr>\n",
       "    <tr>\n",
       "      <th>1</th>\n",
       "      <td>2</td>\n",
       "      <td>1</td>\n",
       "      <td>7</td>\n",
       "      <td>1982</td>\n",
       "      <td>1</td>\n",
       "      <td>2</td>\n",
       "      <td>5</td>\n",
       "      <td>7</td>\n",
       "      <td>0</td>\n",
       "      <td>0</td>\n",
       "    </tr>\n",
       "    <tr>\n",
       "      <th>2</th>\n",
       "      <td>3</td>\n",
       "      <td>2</td>\n",
       "      <td>9</td>\n",
       "      <td>1983</td>\n",
       "      <td>1</td>\n",
       "      <td>2</td>\n",
       "      <td>5</td>\n",
       "      <td>0</td>\n",
       "      <td>0</td>\n",
       "      <td>0</td>\n",
       "    </tr>\n",
       "    <tr>\n",
       "      <th>3</th>\n",
       "      <td>4</td>\n",
       "      <td>2</td>\n",
       "      <td>2</td>\n",
       "      <td>1981</td>\n",
       "      <td>1</td>\n",
       "      <td>2</td>\n",
       "      <td>5</td>\n",
       "      <td>1</td>\n",
       "      <td>0</td>\n",
       "      <td>0</td>\n",
       "    </tr>\n",
       "    <tr>\n",
       "      <th>4</th>\n",
       "      <td>5</td>\n",
       "      <td>1</td>\n",
       "      <td>10</td>\n",
       "      <td>1982</td>\n",
       "      <td>1</td>\n",
       "      <td>2</td>\n",
       "      <td>5</td>\n",
       "      <td>6</td>\n",
       "      <td>0</td>\n",
       "      <td>0</td>\n",
       "    </tr>\n",
       "  </tbody>\n",
       "</table>\n",
       "</div>"
      ],
      "text/plain": [
       "   IDENTIFICATION CODE  GENDER  BIRTHDATE MONTH  BIRTHDATE YEAR  \\\n",
       "0                    1       2                9            1981   \n",
       "1                    2       1                7            1982   \n",
       "2                    3       2                9            1983   \n",
       "3                    4       2                2            1981   \n",
       "4                    5       1               10            1982   \n",
       "\n",
       "   CROSS-SECTIONAL OR OVERSAMPLE  RACE_ETHNICITY  HEIGHT IN FEET  \\\n",
       "0                              1               4               5   \n",
       "1                              1               2               5   \n",
       "2                              1               2               5   \n",
       "3                              1               2               5   \n",
       "4                              1               2               5   \n",
       "\n",
       "   HEIGHT IN INCHES  NONHOURLY EARNINGS(NO OVERTIME)  \\\n",
       "0                 7                                0   \n",
       "1                 7                                0   \n",
       "2                 0                                0   \n",
       "3                 1                                0   \n",
       "4                 6                                0   \n",
       "\n",
       "   NONHOURLY EARNINGS (OVERTIME)  \n",
       "0                              0  \n",
       "1                              0  \n",
       "2                              0  \n",
       "3                              0  \n",
       "4                              0  "
      ]
     },
     "execution_count": 775,
     "metadata": {},
     "output_type": "execute_result"
    }
   ],
   "source": [
    "df2.head()"
   ]
  },
  {
   "cell_type": "code",
   "execution_count": 776,
   "metadata": {},
   "outputs": [
    {
     "data": {
      "text/html": [
       "<div>\n",
       "<style>\n",
       "    .dataframe thead tr:only-child th {\n",
       "        text-align: right;\n",
       "    }\n",
       "\n",
       "    .dataframe thead th {\n",
       "        text-align: left;\n",
       "    }\n",
       "\n",
       "    .dataframe tbody tr th {\n",
       "        vertical-align: top;\n",
       "    }\n",
       "</style>\n",
       "<table border=\"1\" class=\"dataframe\">\n",
       "  <thead>\n",
       "    <tr style=\"text-align: right;\">\n",
       "      <th></th>\n",
       "      <th>IDENTIFICATION CODE</th>\n",
       "      <th>GENDER</th>\n",
       "      <th>BIRTHDATE MONTH</th>\n",
       "      <th>BIRTHDATE YEAR</th>\n",
       "      <th>CROSS-SECTIONAL OR OVERSAMPLE</th>\n",
       "      <th>RACE_ETHNICITY</th>\n",
       "      <th>HEIGHT IN FEET</th>\n",
       "      <th>HEIGHT IN INCHES</th>\n",
       "      <th>NONHOURLY EARNINGS(NO OVERTIME)</th>\n",
       "      <th>NONHOURLY EARNINGS (OVERTIME)</th>\n",
       "    </tr>\n",
       "  </thead>\n",
       "  <tbody>\n",
       "    <tr>\n",
       "      <th>0</th>\n",
       "      <td>1</td>\n",
       "      <td>Female</td>\n",
       "      <td>9</td>\n",
       "      <td>1981</td>\n",
       "      <td>1</td>\n",
       "      <td>4</td>\n",
       "      <td>5</td>\n",
       "      <td>7</td>\n",
       "      <td>0</td>\n",
       "      <td>0</td>\n",
       "    </tr>\n",
       "    <tr>\n",
       "      <th>1</th>\n",
       "      <td>2</td>\n",
       "      <td>Male</td>\n",
       "      <td>7</td>\n",
       "      <td>1982</td>\n",
       "      <td>1</td>\n",
       "      <td>2</td>\n",
       "      <td>5</td>\n",
       "      <td>7</td>\n",
       "      <td>0</td>\n",
       "      <td>0</td>\n",
       "    </tr>\n",
       "    <tr>\n",
       "      <th>2</th>\n",
       "      <td>3</td>\n",
       "      <td>Female</td>\n",
       "      <td>9</td>\n",
       "      <td>1983</td>\n",
       "      <td>1</td>\n",
       "      <td>2</td>\n",
       "      <td>5</td>\n",
       "      <td>0</td>\n",
       "      <td>0</td>\n",
       "      <td>0</td>\n",
       "    </tr>\n",
       "    <tr>\n",
       "      <th>3</th>\n",
       "      <td>4</td>\n",
       "      <td>Female</td>\n",
       "      <td>2</td>\n",
       "      <td>1981</td>\n",
       "      <td>1</td>\n",
       "      <td>2</td>\n",
       "      <td>5</td>\n",
       "      <td>1</td>\n",
       "      <td>0</td>\n",
       "      <td>0</td>\n",
       "    </tr>\n",
       "    <tr>\n",
       "      <th>4</th>\n",
       "      <td>5</td>\n",
       "      <td>Male</td>\n",
       "      <td>10</td>\n",
       "      <td>1982</td>\n",
       "      <td>1</td>\n",
       "      <td>2</td>\n",
       "      <td>5</td>\n",
       "      <td>6</td>\n",
       "      <td>0</td>\n",
       "      <td>0</td>\n",
       "    </tr>\n",
       "  </tbody>\n",
       "</table>\n",
       "</div>"
      ],
      "text/plain": [
       "   IDENTIFICATION CODE  GENDER  BIRTHDATE MONTH  BIRTHDATE YEAR  \\\n",
       "0                    1  Female                9            1981   \n",
       "1                    2    Male                7            1982   \n",
       "2                    3  Female                9            1983   \n",
       "3                    4  Female                2            1981   \n",
       "4                    5    Male               10            1982   \n",
       "\n",
       "   CROSS-SECTIONAL OR OVERSAMPLE  RACE_ETHNICITY  HEIGHT IN FEET  \\\n",
       "0                              1               4               5   \n",
       "1                              1               2               5   \n",
       "2                              1               2               5   \n",
       "3                              1               2               5   \n",
       "4                              1               2               5   \n",
       "\n",
       "   HEIGHT IN INCHES  NONHOURLY EARNINGS(NO OVERTIME)  \\\n",
       "0                 7                                0   \n",
       "1                 7                                0   \n",
       "2                 0                                0   \n",
       "3                 1                                0   \n",
       "4                 6                                0   \n",
       "\n",
       "   NONHOURLY EARNINGS (OVERTIME)  \n",
       "0                              0  \n",
       "1                              0  \n",
       "2                              0  \n",
       "3                              0  \n",
       "4                              0  "
      ]
     },
     "execution_count": 776,
     "metadata": {},
     "output_type": "execute_result"
    }
   ],
   "source": [
    "df2.GENDER.replace([2.0, 1.0], ['Female', 'Male'], inplace=True)\n",
    "df2.head()"
   ]
  },
  {
   "cell_type": "code",
   "execution_count": 777,
   "metadata": {},
   "outputs": [
    {
     "data": {
      "text/html": [
       "<div>\n",
       "<style>\n",
       "    .dataframe thead tr:only-child th {\n",
       "        text-align: right;\n",
       "    }\n",
       "\n",
       "    .dataframe thead th {\n",
       "        text-align: left;\n",
       "    }\n",
       "\n",
       "    .dataframe tbody tr th {\n",
       "        vertical-align: top;\n",
       "    }\n",
       "</style>\n",
       "<table border=\"1\" class=\"dataframe\">\n",
       "  <thead>\n",
       "    <tr style=\"text-align: right;\">\n",
       "      <th></th>\n",
       "      <th>IDENTIFICATION CODE</th>\n",
       "      <th>GENDER</th>\n",
       "      <th>BIRTHDATE MONTH</th>\n",
       "      <th>BIRTHDATE YEAR</th>\n",
       "      <th>CROSS-SECTIONAL OR OVERSAMPLE</th>\n",
       "      <th>RACE_ETHNICITY</th>\n",
       "      <th>HEIGHT IN FEET</th>\n",
       "      <th>HEIGHT IN INCHES</th>\n",
       "      <th>NONHOURLY EARNINGS(NO OVERTIME)</th>\n",
       "      <th>NONHOURLY EARNINGS (OVERTIME)</th>\n",
       "    </tr>\n",
       "  </thead>\n",
       "  <tbody>\n",
       "    <tr>\n",
       "      <th>0</th>\n",
       "      <td>1</td>\n",
       "      <td>Female</td>\n",
       "      <td>9</td>\n",
       "      <td>1981</td>\n",
       "      <td>1</td>\n",
       "      <td>4</td>\n",
       "      <td>60</td>\n",
       "      <td>7</td>\n",
       "      <td>0</td>\n",
       "      <td>0</td>\n",
       "    </tr>\n",
       "    <tr>\n",
       "      <th>1</th>\n",
       "      <td>2</td>\n",
       "      <td>Male</td>\n",
       "      <td>7</td>\n",
       "      <td>1982</td>\n",
       "      <td>1</td>\n",
       "      <td>2</td>\n",
       "      <td>60</td>\n",
       "      <td>7</td>\n",
       "      <td>0</td>\n",
       "      <td>0</td>\n",
       "    </tr>\n",
       "    <tr>\n",
       "      <th>2</th>\n",
       "      <td>3</td>\n",
       "      <td>Female</td>\n",
       "      <td>9</td>\n",
       "      <td>1983</td>\n",
       "      <td>1</td>\n",
       "      <td>2</td>\n",
       "      <td>60</td>\n",
       "      <td>0</td>\n",
       "      <td>0</td>\n",
       "      <td>0</td>\n",
       "    </tr>\n",
       "    <tr>\n",
       "      <th>3</th>\n",
       "      <td>4</td>\n",
       "      <td>Female</td>\n",
       "      <td>2</td>\n",
       "      <td>1981</td>\n",
       "      <td>1</td>\n",
       "      <td>2</td>\n",
       "      <td>60</td>\n",
       "      <td>1</td>\n",
       "      <td>0</td>\n",
       "      <td>0</td>\n",
       "    </tr>\n",
       "    <tr>\n",
       "      <th>4</th>\n",
       "      <td>5</td>\n",
       "      <td>Male</td>\n",
       "      <td>10</td>\n",
       "      <td>1982</td>\n",
       "      <td>1</td>\n",
       "      <td>2</td>\n",
       "      <td>60</td>\n",
       "      <td>6</td>\n",
       "      <td>0</td>\n",
       "      <td>0</td>\n",
       "    </tr>\n",
       "  </tbody>\n",
       "</table>\n",
       "</div>"
      ],
      "text/plain": [
       "   IDENTIFICATION CODE  GENDER  BIRTHDATE MONTH  BIRTHDATE YEAR  \\\n",
       "0                    1  Female                9            1981   \n",
       "1                    2    Male                7            1982   \n",
       "2                    3  Female                9            1983   \n",
       "3                    4  Female                2            1981   \n",
       "4                    5    Male               10            1982   \n",
       "\n",
       "   CROSS-SECTIONAL OR OVERSAMPLE  RACE_ETHNICITY  HEIGHT IN FEET  \\\n",
       "0                              1               4              60   \n",
       "1                              1               2              60   \n",
       "2                              1               2              60   \n",
       "3                              1               2              60   \n",
       "4                              1               2              60   \n",
       "\n",
       "   HEIGHT IN INCHES  NONHOURLY EARNINGS(NO OVERTIME)  \\\n",
       "0                 7                                0   \n",
       "1                 7                                0   \n",
       "2                 0                                0   \n",
       "3                 1                                0   \n",
       "4                 6                                0   \n",
       "\n",
       "   NONHOURLY EARNINGS (OVERTIME)  \n",
       "0                              0  \n",
       "1                              0  \n",
       "2                              0  \n",
       "3                              0  \n",
       "4                              0  "
      ]
     },
     "execution_count": 777,
     "metadata": {},
     "output_type": "execute_result"
    }
   ],
   "source": [
    "df2['HEIGHT IN FEET']*=12\n",
    "df2.head()"
   ]
  },
  {
   "cell_type": "code",
   "execution_count": 778,
   "metadata": {
    "collapsed": true
   },
   "outputs": [],
   "source": [
    "df2['HEIGHT'] = df2['HEIGHT IN FEET']+ df2['HEIGHT IN INCHES']"
   ]
  },
  {
   "cell_type": "code",
   "execution_count": 779,
   "metadata": {},
   "outputs": [
    {
     "data": {
      "text/html": [
       "<div>\n",
       "<style>\n",
       "    .dataframe thead tr:only-child th {\n",
       "        text-align: right;\n",
       "    }\n",
       "\n",
       "    .dataframe thead th {\n",
       "        text-align: left;\n",
       "    }\n",
       "\n",
       "    .dataframe tbody tr th {\n",
       "        vertical-align: top;\n",
       "    }\n",
       "</style>\n",
       "<table border=\"1\" class=\"dataframe\">\n",
       "  <thead>\n",
       "    <tr style=\"text-align: right;\">\n",
       "      <th></th>\n",
       "      <th>IDENTIFICATION CODE</th>\n",
       "      <th>GENDER</th>\n",
       "      <th>BIRTHDATE MONTH</th>\n",
       "      <th>BIRTHDATE YEAR</th>\n",
       "      <th>CROSS-SECTIONAL OR OVERSAMPLE</th>\n",
       "      <th>RACE_ETHNICITY</th>\n",
       "      <th>HEIGHT IN FEET</th>\n",
       "      <th>HEIGHT IN INCHES</th>\n",
       "      <th>NONHOURLY EARNINGS(NO OVERTIME)</th>\n",
       "      <th>NONHOURLY EARNINGS (OVERTIME)</th>\n",
       "      <th>HEIGHT</th>\n",
       "    </tr>\n",
       "  </thead>\n",
       "  <tbody>\n",
       "    <tr>\n",
       "      <th>0</th>\n",
       "      <td>1</td>\n",
       "      <td>Female</td>\n",
       "      <td>9</td>\n",
       "      <td>1981</td>\n",
       "      <td>1</td>\n",
       "      <td>4</td>\n",
       "      <td>60</td>\n",
       "      <td>7</td>\n",
       "      <td>0</td>\n",
       "      <td>0</td>\n",
       "      <td>67</td>\n",
       "    </tr>\n",
       "    <tr>\n",
       "      <th>1</th>\n",
       "      <td>2</td>\n",
       "      <td>Male</td>\n",
       "      <td>7</td>\n",
       "      <td>1982</td>\n",
       "      <td>1</td>\n",
       "      <td>2</td>\n",
       "      <td>60</td>\n",
       "      <td>7</td>\n",
       "      <td>0</td>\n",
       "      <td>0</td>\n",
       "      <td>67</td>\n",
       "    </tr>\n",
       "    <tr>\n",
       "      <th>2</th>\n",
       "      <td>3</td>\n",
       "      <td>Female</td>\n",
       "      <td>9</td>\n",
       "      <td>1983</td>\n",
       "      <td>1</td>\n",
       "      <td>2</td>\n",
       "      <td>60</td>\n",
       "      <td>0</td>\n",
       "      <td>0</td>\n",
       "      <td>0</td>\n",
       "      <td>60</td>\n",
       "    </tr>\n",
       "    <tr>\n",
       "      <th>3</th>\n",
       "      <td>4</td>\n",
       "      <td>Female</td>\n",
       "      <td>2</td>\n",
       "      <td>1981</td>\n",
       "      <td>1</td>\n",
       "      <td>2</td>\n",
       "      <td>60</td>\n",
       "      <td>1</td>\n",
       "      <td>0</td>\n",
       "      <td>0</td>\n",
       "      <td>61</td>\n",
       "    </tr>\n",
       "    <tr>\n",
       "      <th>4</th>\n",
       "      <td>5</td>\n",
       "      <td>Male</td>\n",
       "      <td>10</td>\n",
       "      <td>1982</td>\n",
       "      <td>1</td>\n",
       "      <td>2</td>\n",
       "      <td>60</td>\n",
       "      <td>6</td>\n",
       "      <td>0</td>\n",
       "      <td>0</td>\n",
       "      <td>66</td>\n",
       "    </tr>\n",
       "  </tbody>\n",
       "</table>\n",
       "</div>"
      ],
      "text/plain": [
       "   IDENTIFICATION CODE  GENDER  BIRTHDATE MONTH  BIRTHDATE YEAR  \\\n",
       "0                    1  Female                9            1981   \n",
       "1                    2    Male                7            1982   \n",
       "2                    3  Female                9            1983   \n",
       "3                    4  Female                2            1981   \n",
       "4                    5    Male               10            1982   \n",
       "\n",
       "   CROSS-SECTIONAL OR OVERSAMPLE  RACE_ETHNICITY  HEIGHT IN FEET  \\\n",
       "0                              1               4              60   \n",
       "1                              1               2              60   \n",
       "2                              1               2              60   \n",
       "3                              1               2              60   \n",
       "4                              1               2              60   \n",
       "\n",
       "   HEIGHT IN INCHES  NONHOURLY EARNINGS(NO OVERTIME)  \\\n",
       "0                 7                                0   \n",
       "1                 7                                0   \n",
       "2                 0                                0   \n",
       "3                 1                                0   \n",
       "4                 6                                0   \n",
       "\n",
       "   NONHOURLY EARNINGS (OVERTIME)  HEIGHT  \n",
       "0                              0      67  \n",
       "1                              0      67  \n",
       "2                              0      60  \n",
       "3                              0      61  \n",
       "4                              0      66  "
      ]
     },
     "execution_count": 779,
     "metadata": {},
     "output_type": "execute_result"
    }
   ],
   "source": [
    "df2.head()"
   ]
  },
  {
   "cell_type": "code",
   "execution_count": 780,
   "metadata": {},
   "outputs": [],
   "source": [
    "del df2['BIRTHDATE YEAR']"
   ]
  },
  {
   "cell_type": "code",
   "execution_count": 781,
   "metadata": {},
   "outputs": [],
   "source": [
    "del df2['CROSS-SECTIONAL OR OVERSAMPLE']"
   ]
  },
  {
   "cell_type": "code",
   "execution_count": 782,
   "metadata": {
    "collapsed": true
   },
   "outputs": [],
   "source": [
    "del df2['BIRTHDATE MONTH']"
   ]
  },
  {
   "cell_type": "code",
   "execution_count": 783,
   "metadata": {
    "collapsed": true
   },
   "outputs": [],
   "source": [
    "del df2 ['RACE_ETHNICITY']"
   ]
  },
  {
   "cell_type": "code",
   "execution_count": 784,
   "metadata": {
    "collapsed": true
   },
   "outputs": [],
   "source": [
    "del df2 ['NONHOURLY EARNINGS (OVERTIME)']"
   ]
  },
  {
   "cell_type": "code",
   "execution_count": 786,
   "metadata": {},
   "outputs": [
    {
     "data": {
      "text/html": [
       "<div>\n",
       "<style>\n",
       "    .dataframe thead tr:only-child th {\n",
       "        text-align: right;\n",
       "    }\n",
       "\n",
       "    .dataframe thead th {\n",
       "        text-align: left;\n",
       "    }\n",
       "\n",
       "    .dataframe tbody tr th {\n",
       "        vertical-align: top;\n",
       "    }\n",
       "</style>\n",
       "<table border=\"1\" class=\"dataframe\">\n",
       "  <thead>\n",
       "    <tr style=\"text-align: right;\">\n",
       "      <th></th>\n",
       "      <th>IDENTIFICATION CODE</th>\n",
       "      <th>GENDER</th>\n",
       "      <th>HEIGHT IN FEET</th>\n",
       "      <th>HEIGHT IN INCHES</th>\n",
       "      <th>NONHOURLY EARNINGS(NO OVERTIME)</th>\n",
       "      <th>HEIGHT</th>\n",
       "    </tr>\n",
       "  </thead>\n",
       "  <tbody>\n",
       "    <tr>\n",
       "      <th>0</th>\n",
       "      <td>1</td>\n",
       "      <td>Female</td>\n",
       "      <td>60</td>\n",
       "      <td>7</td>\n",
       "      <td>0</td>\n",
       "      <td>67</td>\n",
       "    </tr>\n",
       "    <tr>\n",
       "      <th>1</th>\n",
       "      <td>2</td>\n",
       "      <td>Male</td>\n",
       "      <td>60</td>\n",
       "      <td>7</td>\n",
       "      <td>0</td>\n",
       "      <td>67</td>\n",
       "    </tr>\n",
       "  </tbody>\n",
       "</table>\n",
       "</div>"
      ],
      "text/plain": [
       "   IDENTIFICATION CODE  GENDER  HEIGHT IN FEET  HEIGHT IN INCHES  \\\n",
       "0                    1  Female              60                 7   \n",
       "1                    2    Male              60                 7   \n",
       "\n",
       "   NONHOURLY EARNINGS(NO OVERTIME)  HEIGHT  \n",
       "0                                0      67  \n",
       "1                                0      67  "
      ]
     },
     "execution_count": 786,
     "metadata": {},
     "output_type": "execute_result"
    }
   ],
   "source": [
    "df2.head(2)"
   ]
  },
  {
   "cell_type": "code",
   "execution_count": 787,
   "metadata": {},
   "outputs": [],
   "source": [
    "df2 = df2[df2['HEIGHT']!= 0]"
   ]
  },
  {
   "cell_type": "code",
   "execution_count": 788,
   "metadata": {},
   "outputs": [],
   "source": [
    "df2 = df2[df2['NONHOURLY EARNINGS(NO OVERTIME)']!= 0]"
   ]
  },
  {
   "cell_type": "code",
   "execution_count": 789,
   "metadata": {},
   "outputs": [
    {
     "data": {
      "text/plain": [
       "635"
      ]
     },
     "execution_count": 789,
     "metadata": {},
     "output_type": "execute_result"
    }
   ],
   "source": [
    "len(df2)"
   ]
  },
  {
   "cell_type": "code",
   "execution_count": 792,
   "metadata": {},
   "outputs": [
    {
     "data": {
      "text/html": [
       "<div>\n",
       "<style>\n",
       "    .dataframe thead tr:only-child th {\n",
       "        text-align: right;\n",
       "    }\n",
       "\n",
       "    .dataframe thead th {\n",
       "        text-align: left;\n",
       "    }\n",
       "\n",
       "    .dataframe tbody tr th {\n",
       "        vertical-align: top;\n",
       "    }\n",
       "</style>\n",
       "<table border=\"1\" class=\"dataframe\">\n",
       "  <thead>\n",
       "    <tr style=\"text-align: right;\">\n",
       "      <th></th>\n",
       "      <th>IDENTIFICATION CODE</th>\n",
       "      <th>GENDER</th>\n",
       "      <th>HEIGHT IN FEET</th>\n",
       "      <th>HEIGHT IN INCHES</th>\n",
       "      <th>NONHOURLY EARNINGS(NO OVERTIME)</th>\n",
       "      <th>HEIGHT</th>\n",
       "    </tr>\n",
       "  </thead>\n",
       "  <tbody>\n",
       "    <tr>\n",
       "      <th>15</th>\n",
       "      <td>16</td>\n",
       "      <td>Male</td>\n",
       "      <td>72</td>\n",
       "      <td>6</td>\n",
       "      <td>600000</td>\n",
       "      <td>78</td>\n",
       "    </tr>\n",
       "    <tr>\n",
       "      <th>22</th>\n",
       "      <td>23</td>\n",
       "      <td>Female</td>\n",
       "      <td>48</td>\n",
       "      <td>11</td>\n",
       "      <td>7500000</td>\n",
       "      <td>59</td>\n",
       "    </tr>\n",
       "    <tr>\n",
       "      <th>23</th>\n",
       "      <td>24</td>\n",
       "      <td>Male</td>\n",
       "      <td>60</td>\n",
       "      <td>6</td>\n",
       "      <td>10000</td>\n",
       "      <td>66</td>\n",
       "    </tr>\n",
       "    <tr>\n",
       "      <th>60</th>\n",
       "      <td>61</td>\n",
       "      <td>Female</td>\n",
       "      <td>60</td>\n",
       "      <td>2</td>\n",
       "      <td>168000</td>\n",
       "      <td>62</td>\n",
       "    </tr>\n",
       "    <tr>\n",
       "      <th>73</th>\n",
       "      <td>74</td>\n",
       "      <td>Male</td>\n",
       "      <td>60</td>\n",
       "      <td>10</td>\n",
       "      <td>12000000</td>\n",
       "      <td>70</td>\n",
       "    </tr>\n",
       "  </tbody>\n",
       "</table>\n",
       "</div>"
      ],
      "text/plain": [
       "    IDENTIFICATION CODE  GENDER  HEIGHT IN FEET  HEIGHT IN INCHES  \\\n",
       "15                   16    Male              72                 6   \n",
       "22                   23  Female              48                11   \n",
       "23                   24    Male              60                 6   \n",
       "60                   61  Female              60                 2   \n",
       "73                   74    Male              60                10   \n",
       "\n",
       "    NONHOURLY EARNINGS(NO OVERTIME)  HEIGHT  \n",
       "15                           600000      78  \n",
       "22                          7500000      59  \n",
       "23                            10000      66  \n",
       "60                           168000      62  \n",
       "73                         12000000      70  "
      ]
     },
     "execution_count": 792,
     "metadata": {},
     "output_type": "execute_result"
    }
   ],
   "source": [
    "df2.head()"
   ]
  },
  {
   "cell_type": "code",
   "execution_count": 793,
   "metadata": {},
   "outputs": [
    {
     "data": {
      "text/plain": [
       "1"
      ]
     },
     "execution_count": 793,
     "metadata": {},
     "output_type": "execute_result"
    }
   ],
   "source": [
    "df2['HEIGHT'].min()"
   ]
  },
  {
   "cell_type": "code",
   "execution_count": 794,
   "metadata": {},
   "outputs": [
    {
     "data": {
      "text/html": [
       "<div>\n",
       "<style>\n",
       "    .dataframe thead tr:only-child th {\n",
       "        text-align: right;\n",
       "    }\n",
       "\n",
       "    .dataframe thead th {\n",
       "        text-align: left;\n",
       "    }\n",
       "\n",
       "    .dataframe tbody tr th {\n",
       "        vertical-align: top;\n",
       "    }\n",
       "</style>\n",
       "<table border=\"1\" class=\"dataframe\">\n",
       "  <thead>\n",
       "    <tr style=\"text-align: right;\">\n",
       "      <th></th>\n",
       "      <th>IDENTIFICATION CODE</th>\n",
       "      <th>GENDER</th>\n",
       "      <th>HEIGHT IN FEET</th>\n",
       "      <th>HEIGHT IN INCHES</th>\n",
       "      <th>NONHOURLY EARNINGS(NO OVERTIME)</th>\n",
       "      <th>HEIGHT</th>\n",
       "    </tr>\n",
       "  </thead>\n",
       "  <tbody>\n",
       "    <tr>\n",
       "      <th>6054</th>\n",
       "      <td>6071</td>\n",
       "      <td>Female</td>\n",
       "      <td>0</td>\n",
       "      <td>1</td>\n",
       "      <td>35000</td>\n",
       "      <td>1</td>\n",
       "    </tr>\n",
       "    <tr>\n",
       "      <th>8066</th>\n",
       "      <td>8094</td>\n",
       "      <td>Male</td>\n",
       "      <td>0</td>\n",
       "      <td>1</td>\n",
       "      <td>8000</td>\n",
       "      <td>1</td>\n",
       "    </tr>\n",
       "  </tbody>\n",
       "</table>\n",
       "</div>"
      ],
      "text/plain": [
       "      IDENTIFICATION CODE  GENDER  HEIGHT IN FEET  HEIGHT IN INCHES  \\\n",
       "6054                 6071  Female               0                 1   \n",
       "8066                 8094    Male               0                 1   \n",
       "\n",
       "      NONHOURLY EARNINGS(NO OVERTIME)  HEIGHT  \n",
       "6054                            35000       1  \n",
       "8066                             8000       1  "
      ]
     },
     "execution_count": 794,
     "metadata": {},
     "output_type": "execute_result"
    }
   ],
   "source": [
    "df2.loc[df2['HEIGHT'] == 1]"
   ]
  },
  {
   "cell_type": "code",
   "execution_count": 795,
   "metadata": {
    "collapsed": true
   },
   "outputs": [],
   "source": [
    "df2 = df2[df2['HEIGHT']!= 1]"
   ]
  },
  {
   "cell_type": "code",
   "execution_count": 796,
   "metadata": {},
   "outputs": [
    {
     "data": {
      "text/plain": [
       "53"
      ]
     },
     "execution_count": 796,
     "metadata": {},
     "output_type": "execute_result"
    }
   ],
   "source": [
    "df2['HEIGHT'].min()"
   ]
  },
  {
   "cell_type": "code",
   "execution_count": 799,
   "metadata": {
    "collapsed": true
   },
   "outputs": [],
   "source": [
    "#Standardization\n",
    "height_standard97 = standardize(df2['HEIGHT'])\n",
    "earnings_standard97 = standardize(df2['NONHOURLY EARNINGS(NO OVERTIME)'])\n"
   ]
  },
  {
   "cell_type": "code",
   "execution_count": 832,
   "metadata": {},
   "outputs": [
    {
     "data": {
      "image/png": "[encoded data removed]",
      "text/plain": [
       "<matplotlib.figure.Figure at 0x1a7163588>"
      ]
     },
     "metadata": {},
     "output_type": "display_data"
    }
   ],
   "source": [
    "fig = plt.figure()\n",
    "ax1 = fig.add_subplot(111)\n",
    "ax1.scatter(height_standard97, earnings_standard97 , s=30, color='g', alpha = 0.6);\n",
    "plt.show()"
   ]
  },
  {
   "cell_type": "code",
   "execution_count": 833,
   "metadata": {},
   "outputs": [
    {
     "data": {
      "text/plain": [
       "0.14703061285860372"
      ]
     },
     "execution_count": 833,
     "metadata": {},
     "output_type": "execute_result"
    }
   ],
   "source": [
    "np.corrcoef(height_standard97, earnings_standard97)[0,1]"
   ]
  },
  {
   "cell_type": "code",
   "execution_count": 804,
   "metadata": {},
   "outputs": [
    {
     "data": {
      "text/plain": [
       "LinregressResult(slope=0.14703061285860375, intercept=-9.1524356646835404e-17, rvalue=0.14703061285860375, pvalue=0.0002055495697714808, stderr=0.039376720879204373)"
      ]
     },
     "execution_count": 804,
     "metadata": {},
     "output_type": "execute_result"
    }
   ],
   "source": [
    "linregress(height_standard97, earnings_standard97)"
   ]
  },
  {
   "cell_type": "markdown",
   "metadata": {},
   "source": [
    "### QUESTION 3B: CORRELATION BETWEEN HEIGHT AND EARNINGS BY GENDER NLSY1997"
   ]
  },
  {
   "cell_type": "markdown",
   "metadata": {},
   "source": [
    "I am going to devide the results into two parts. One male and the other female, because I expect average heights f the two groups to be different. Therefore I would like to avoid the results og one dataset affecting the other. For instance, I would like to know if a relatively tall woman makes more than a relatively shorter woman.I would not want to confuse the results of a relatively tall woman with an relatively average man. I also expect gender to contribute to an individuals earnings. Essentially I expect women's average earning to be lower as well."
   ]
  },
  {
   "cell_type": "code",
   "execution_count": 806,
   "metadata": {},
   "outputs": [
    {
     "data": {
      "text/html": [
       "<div>\n",
       "<style>\n",
       "    .dataframe thead tr:only-child th {\n",
       "        text-align: right;\n",
       "    }\n",
       "\n",
       "    .dataframe thead th {\n",
       "        text-align: left;\n",
       "    }\n",
       "\n",
       "    .dataframe tbody tr th {\n",
       "        vertical-align: top;\n",
       "    }\n",
       "</style>\n",
       "<table border=\"1\" class=\"dataframe\">\n",
       "  <thead>\n",
       "    <tr style=\"text-align: right;\">\n",
       "      <th></th>\n",
       "      <th>IDENTIFICATION CODE</th>\n",
       "      <th>GENDER</th>\n",
       "      <th>HEIGHT IN FEET</th>\n",
       "      <th>HEIGHT IN INCHES</th>\n",
       "      <th>NONHOURLY EARNINGS(NO OVERTIME)</th>\n",
       "      <th>HEIGHT</th>\n",
       "    </tr>\n",
       "  </thead>\n",
       "  <tbody>\n",
       "    <tr>\n",
       "      <th>22</th>\n",
       "      <td>23</td>\n",
       "      <td>Female</td>\n",
       "      <td>48</td>\n",
       "      <td>11</td>\n",
       "      <td>7500000</td>\n",
       "      <td>59</td>\n",
       "    </tr>\n",
       "    <tr>\n",
       "      <th>60</th>\n",
       "      <td>61</td>\n",
       "      <td>Female</td>\n",
       "      <td>60</td>\n",
       "      <td>2</td>\n",
       "      <td>168000</td>\n",
       "      <td>62</td>\n",
       "    </tr>\n",
       "  </tbody>\n",
       "</table>\n",
       "</div>"
      ],
      "text/plain": [
       "    IDENTIFICATION CODE  GENDER  HEIGHT IN FEET  HEIGHT IN INCHES  \\\n",
       "22                   23  Female              48                11   \n",
       "60                   61  Female              60                 2   \n",
       "\n",
       "    NONHOURLY EARNINGS(NO OVERTIME)  HEIGHT  \n",
       "22                          7500000      59  \n",
       "60                           168000      62  "
      ]
     },
     "execution_count": 806,
     "metadata": {},
     "output_type": "execute_result"
    }
   ],
   "source": [
    "f_earning97 = df2.loc[df2['GENDER'] == 'Female']\n",
    "f_earning97.head(2)"
   ]
  },
  {
   "cell_type": "code",
   "execution_count": 807,
   "metadata": {},
   "outputs": [
    {
     "data": {
      "text/html": [
       "<div>\n",
       "<style>\n",
       "    .dataframe thead tr:only-child th {\n",
       "        text-align: right;\n",
       "    }\n",
       "\n",
       "    .dataframe thead th {\n",
       "        text-align: left;\n",
       "    }\n",
       "\n",
       "    .dataframe tbody tr th {\n",
       "        vertical-align: top;\n",
       "    }\n",
       "</style>\n",
       "<table border=\"1\" class=\"dataframe\">\n",
       "  <thead>\n",
       "    <tr style=\"text-align: right;\">\n",
       "      <th></th>\n",
       "      <th>IDENTIFICATION CODE</th>\n",
       "      <th>GENDER</th>\n",
       "      <th>HEIGHT IN FEET</th>\n",
       "      <th>HEIGHT IN INCHES</th>\n",
       "      <th>NONHOURLY EARNINGS(NO OVERTIME)</th>\n",
       "      <th>HEIGHT</th>\n",
       "    </tr>\n",
       "  </thead>\n",
       "  <tbody>\n",
       "    <tr>\n",
       "      <th>15</th>\n",
       "      <td>16</td>\n",
       "      <td>Male</td>\n",
       "      <td>72</td>\n",
       "      <td>6</td>\n",
       "      <td>600000</td>\n",
       "      <td>78</td>\n",
       "    </tr>\n",
       "    <tr>\n",
       "      <th>23</th>\n",
       "      <td>24</td>\n",
       "      <td>Male</td>\n",
       "      <td>60</td>\n",
       "      <td>6</td>\n",
       "      <td>10000</td>\n",
       "      <td>66</td>\n",
       "    </tr>\n",
       "  </tbody>\n",
       "</table>\n",
       "</div>"
      ],
      "text/plain": [
       "    IDENTIFICATION CODE GENDER  HEIGHT IN FEET  HEIGHT IN INCHES  \\\n",
       "15                   16   Male              72                 6   \n",
       "23                   24   Male              60                 6   \n",
       "\n",
       "    NONHOURLY EARNINGS(NO OVERTIME)  HEIGHT  \n",
       "15                           600000      78  \n",
       "23                            10000      66  "
      ]
     },
     "execution_count": 807,
     "metadata": {},
     "output_type": "execute_result"
    }
   ],
   "source": [
    "m_earning97 = df2.loc[df2['GENDER'] == 'Male']\n",
    "m_earning97.head(2)"
   ]
  },
  {
   "cell_type": "code",
   "execution_count": 808,
   "metadata": {},
   "outputs": [
    {
     "data": {
      "text/plain": [
       "64.475"
      ]
     },
     "execution_count": 808,
     "metadata": {},
     "output_type": "execute_result"
    }
   ],
   "source": [
    "f_earning97['HEIGHT'].mean()"
   ]
  },
  {
   "cell_type": "code",
   "execution_count": 809,
   "metadata": {},
   "outputs": [
    {
     "data": {
      "text/plain": [
       "70.46006389776358"
      ]
     },
     "execution_count": 809,
     "metadata": {},
     "output_type": "execute_result"
    }
   ],
   "source": [
    "m_earning97['HEIGHT'].mean()"
   ]
  },
  {
   "cell_type": "code",
   "execution_count": 810,
   "metadata": {
    "collapsed": true
   },
   "outputs": [],
   "source": [
    "#Men\n",
    "mheight_standard97 = standardize(m_earning97['HEIGHT'])\n",
    "mearnings_standard97 = standardize(m_earning97['NONHOURLY EARNINGS(NO OVERTIME)'])\n",
    "\n",
    "#Women\n",
    "fheight_standard97 = standardize(f_earning97['HEIGHT'])\n",
    "fearnings_standard97 = standardize(f_earning97['NONHOURLY EARNINGS(NO OVERTIME)'])"
   ]
  },
  {
   "cell_type": "markdown",
   "metadata": {},
   "source": [
    "### WOMEN NLSY1979"
   ]
  },
  {
   "cell_type": "code",
   "execution_count": 811,
   "metadata": {},
   "outputs": [
    {
     "data": {
      "image/png": "[encoded data removed]",
      "text/plain": [
       "<matplotlib.figure.Figure at 0x11d9f2a58>"
      ]
     },
     "metadata": {},
     "output_type": "display_data"
    }
   ],
   "source": [
    "fig = plt.figure()\n",
    "ax1 = fig.add_subplot(111)\n",
    "ax1.scatter(fheight_standard97, fearnings_standard97, s=30, color='g', alpha = 0.6);\n",
    "plt.show()"
   ]
  },
  {
   "cell_type": "code",
   "execution_count": 812,
   "metadata": {},
   "outputs": [
    {
     "data": {
      "text/plain": [
       "0.05247515752057004"
      ]
     },
     "execution_count": 812,
     "metadata": {},
     "output_type": "execute_result"
    }
   ],
   "source": [
    "np.corrcoef(fheight_standard97, fearnings_standard97)[0,1]"
   ]
  },
  {
   "cell_type": "code",
   "execution_count": 813,
   "metadata": {},
   "outputs": [
    {
     "data": {
      "text/plain": [
       "LinregressResult(slope=0.052475157520570144, intercept=-1.5460387046965803e-16, rvalue=0.052475157520570047, pvalue=0.34944026408062512, stderr=0.05599995389270325)"
      ]
     },
     "execution_count": 813,
     "metadata": {},
     "output_type": "execute_result"
    }
   ],
   "source": [
    "linregress(fheight_standard97, fearnings_standard97)"
   ]
  },
  {
   "cell_type": "markdown",
   "metadata": {},
   "source": [
    "### MEN NLSY1979"
   ]
  },
  {
   "cell_type": "code",
   "execution_count": 814,
   "metadata": {},
   "outputs": [
    {
     "data": {
      "image/png": "[encoded data removed]",
      "text/plain": [
       "<matplotlib.figure.Figure at 0x11d9e9828>"
      ]
     },
     "metadata": {},
     "output_type": "display_data"
    }
   ],
   "source": [
    "fig = plt.figure()\n",
    "ax1 = fig.add_subplot(111)\n",
    "ax1.scatter(mheight_standard97 , mearnings_standard97, s=30, color='g', alpha = 0.6);\n",
    "plt.show()"
   ]
  },
  {
   "cell_type": "code",
   "execution_count": 815,
   "metadata": {},
   "outputs": [
    {
     "data": {
      "text/plain": [
       "0.20380997632724374"
      ]
     },
     "execution_count": 815,
     "metadata": {},
     "output_type": "execute_result"
    }
   ],
   "source": [
    "np.corrcoef(mheight_standard97, mearnings_standard97)[0,1]"
   ]
  },
  {
   "cell_type": "code",
   "execution_count": 816,
   "metadata": {},
   "outputs": [
    {
     "data": {
      "text/plain": [
       "LinregressResult(slope=0.20380997632724415, intercept=-1.8044128524075689e-16, rvalue=0.20380997632724376, pvalue=0.00028396149218952406, stderr=0.05551459046213375)"
      ]
     },
     "execution_count": 816,
     "metadata": {},
     "output_type": "execute_result"
    }
   ],
   "source": [
    "linregress(mheight_standard97, mearnings_standard97)"
   ]
  },
  {
   "cell_type": "markdown",
   "metadata": {},
   "source": [
    "## Comments"
   ]
  },
  {
   "cell_type": "markdown",
   "metadata": {},
   "source": [
    "The data, seems relatively consistent with both the NLSY1979 and NLSY1997 groups.\n",
    "\n",
    "Overall there is a positive correlation between height and earning. The correlation is only slight. Better results may be achieved with a larger sample size before averaging out the data. \n",
    "\n",
    "The correlation between women's earnings and their height seems almost nonexistant. Perhaps other factors play a greater role in the amount of money they make. My hypothesis based on external readings is that the correlation between height and earnings is generally based in how 'physically attractive' someone is. With this in mind height may play a smaller role in whether society deems women more attractive, relative to men.\n",
    "\n",
    "\n",
    "When I started, I had expected stronger correlations. I do believe I could have used better samples. After cleaning the data I came to realize there where plenty of gaps in the earning data for both.\n"
   ]
  }
 ],
 "metadata": {
  "kernelspec": {
   "display_name": "Python 3",
   "language": "python",
   "name": "python3"
  },
  "language_info": {
   "codemirror_mode": {
    "name": "ipython",
    "version": 3
   },
   "file_extension": ".py",
   "mimetype": "text/x-python",
   "name": "python",
   "nbconvert_exporter": "python",
   "pygments_lexer": "ipython3",
   "version": "3.6.1"
  }
 },
 "nbformat": 4,
 "nbformat_minor": 2
}
